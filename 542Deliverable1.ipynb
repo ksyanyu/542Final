{
 "cells": [
  {
   "cell_type": "markdown",
   "id": "f8a5dc21",
   "metadata": {},
   "source": [
    "# 1. Reading data table 1 from website"
   ]
  },
  {
   "cell_type": "code",
   "execution_count": 2,
   "id": "741686e3",
   "metadata": {},
   "outputs": [],
   "source": [
    "# activating pandas\n",
    "import pandas as pd"
   ]
  },
  {
   "cell_type": "code",
   "execution_count": 3,
   "id": "2b28ad1f",
   "metadata": {},
   "outputs": [
    {
     "data": {
      "text/html": [
       "\n",
       "        <iframe\n",
       "            width=\"1000\"\n",
       "            height=\"300\"\n",
       "            src=\"https://en.wikipedia.org/wiki/List_of_countries_by_GDP_(nominal)\"\n",
       "            frameborder=\"0\"\n",
       "            allowfullscreen\n",
       "            \n",
       "        ></iframe>\n",
       "        "
      ],
      "text/plain": [
       "<IPython.lib.display.IFrame at 0x1444e020970>"
      ]
     },
     "execution_count": 3,
     "metadata": {},
     "output_type": "execute_result"
    }
   ],
   "source": [
    "# scraping\n",
    "from IPython.display import IFrame  \n",
    "wikiLink=\"https://en.wikipedia.org/wiki/List_of_countries_by_GDP_(nominal)\" \n",
    "IFrame(wikiLink, width=1000, height=300)"
   ]
  },
  {
   "cell_type": "code",
   "execution_count": 4,
   "id": "d2a15e1a",
   "metadata": {},
   "outputs": [
    {
     "name": "stdout",
     "output_type": "stream",
     "text": [
      "Requirement already satisfied: html5lib in d:\\software2\\anaconda3\\anaconda\\lib\\site-packages (1.1)\n",
      "Requirement already satisfied: webencodings in d:\\software2\\anaconda3\\anaconda\\lib\\site-packages (from html5lib) (0.5.1)\n",
      "Requirement already satisfied: six>=1.9 in d:\\software2\\anaconda3\\anaconda\\lib\\site-packages (from html5lib) (1.16.0)\n",
      "Requirement already satisfied: lxml in d:\\software2\\anaconda3\\anaconda\\lib\\site-packages (4.6.3)\n",
      "Requirement already satisfied: beautifulsoup4 in d:\\software2\\anaconda3\\anaconda\\lib\\site-packages (4.10.0)\n",
      "Requirement already satisfied: soupsieve>1.2 in d:\\software2\\anaconda3\\anaconda\\lib\\site-packages (from beautifulsoup4) (2.2.1)\n"
     ]
    }
   ],
   "source": [
    "!pip install html5lib\n",
    "!pip install lxml\n",
    "!pip install beautifulsoup4"
   ]
  },
  {
   "cell_type": "code",
   "execution_count": 5,
   "id": "3d1ef3a3",
   "metadata": {},
   "outputs": [],
   "source": [
    "DataWiki=pd.read_html(wikiLink,header=0,flavor='bs4',attrs={'class': 'wikitable'})"
   ]
  },
  {
   "cell_type": "code",
   "execution_count": 6,
   "id": "9be0e00e",
   "metadata": {},
   "outputs": [
    {
     "data": {
      "text/plain": [
       "list"
      ]
     },
     "execution_count": 6,
     "metadata": {},
     "output_type": "execute_result"
    }
   ],
   "source": [
    "type(DataWiki)"
   ]
  },
  {
   "cell_type": "code",
   "execution_count": 7,
   "id": "20296894",
   "metadata": {},
   "outputs": [
    {
     "data": {
      "text/plain": [
       "1"
      ]
     },
     "execution_count": 7,
     "metadata": {},
     "output_type": "execute_result"
    }
   ],
   "source": [
    "len(DataWiki)"
   ]
  },
  {
   "cell_type": "code",
   "execution_count": 8,
   "id": "6b7aa840",
   "metadata": {},
   "outputs": [
    {
     "data": {
      "text/html": [
       "<div>\n",
       "<style scoped>\n",
       "    .dataframe tbody tr th:only-of-type {\n",
       "        vertical-align: middle;\n",
       "    }\n",
       "\n",
       "    .dataframe tbody tr th {\n",
       "        vertical-align: top;\n",
       "    }\n",
       "\n",
       "    .dataframe thead th {\n",
       "        text-align: right;\n",
       "    }\n",
       "</style>\n",
       "<table border=\"1\" class=\"dataframe\">\n",
       "  <thead>\n",
       "    <tr style=\"text-align: right;\">\n",
       "      <th></th>\n",
       "      <th>Country/Territory</th>\n",
       "      <th>Subregion</th>\n",
       "      <th>Region</th>\n",
       "      <th>IMF[1]</th>\n",
       "      <th>IMF[1].1</th>\n",
       "      <th>United Nations[12]</th>\n",
       "      <th>United Nations[12].1</th>\n",
       "      <th>World Bank[13][14]</th>\n",
       "      <th>World Bank[13][14].1</th>\n",
       "    </tr>\n",
       "  </thead>\n",
       "  <tbody>\n",
       "    <tr>\n",
       "      <th>0</th>\n",
       "      <td>Country/Territory</td>\n",
       "      <td>Subregion</td>\n",
       "      <td>Region</td>\n",
       "      <td>Estimate</td>\n",
       "      <td>Year</td>\n",
       "      <td>Estimate</td>\n",
       "      <td>Year</td>\n",
       "      <td>Estimate</td>\n",
       "      <td>Year</td>\n",
       "    </tr>\n",
       "    <tr>\n",
       "      <th>1</th>\n",
       "      <td>United States</td>\n",
       "      <td>Northern America</td>\n",
       "      <td>Americas</td>\n",
       "      <td>22939580</td>\n",
       "      <td>2021</td>\n",
       "      <td>20893746</td>\n",
       "      <td>2020</td>\n",
       "      <td>20936600</td>\n",
       "      <td>2020</td>\n",
       "    </tr>\n",
       "    <tr>\n",
       "      <th>2</th>\n",
       "      <td>China</td>\n",
       "      <td>Eastern Asia</td>\n",
       "      <td>Asia</td>\n",
       "      <td>16862979</td>\n",
       "      <td>[n 2]2021</td>\n",
       "      <td>14722801</td>\n",
       "      <td>[n 3]2020</td>\n",
       "      <td>14722731</td>\n",
       "      <td>2020</td>\n",
       "    </tr>\n",
       "    <tr>\n",
       "      <th>3</th>\n",
       "      <td>Japan</td>\n",
       "      <td>Eastern Asia</td>\n",
       "      <td>Asia</td>\n",
       "      <td>5103110</td>\n",
       "      <td>2021</td>\n",
       "      <td>5057759</td>\n",
       "      <td>2020</td>\n",
       "      <td>4975415</td>\n",
       "      <td>2020</td>\n",
       "    </tr>\n",
       "    <tr>\n",
       "      <th>4</th>\n",
       "      <td>Germany</td>\n",
       "      <td>Western Europe</td>\n",
       "      <td>Europe</td>\n",
       "      <td>4230172</td>\n",
       "      <td>2021</td>\n",
       "      <td>3846414</td>\n",
       "      <td>2020</td>\n",
       "      <td>3806060</td>\n",
       "      <td>2020</td>\n",
       "    </tr>\n",
       "    <tr>\n",
       "      <th>...</th>\n",
       "      <td>...</td>\n",
       "      <td>...</td>\n",
       "      <td>...</td>\n",
       "      <td>...</td>\n",
       "      <td>...</td>\n",
       "      <td>...</td>\n",
       "      <td>...</td>\n",
       "      <td>...</td>\n",
       "      <td>...</td>\n",
       "    </tr>\n",
       "    <tr>\n",
       "      <th>212</th>\n",
       "      <td>Kiribati</td>\n",
       "      <td>Micronesia</td>\n",
       "      <td>Oceania</td>\n",
       "      <td>232</td>\n",
       "      <td>2021</td>\n",
       "      <td>181</td>\n",
       "      <td>2020</td>\n",
       "      <td>200</td>\n",
       "      <td>2020</td>\n",
       "    </tr>\n",
       "    <tr>\n",
       "      <th>213</th>\n",
       "      <td>Palau</td>\n",
       "      <td>Micronesia</td>\n",
       "      <td>Oceania</td>\n",
       "      <td>208</td>\n",
       "      <td>2021</td>\n",
       "      <td>264</td>\n",
       "      <td>2020</td>\n",
       "      <td>268</td>\n",
       "      <td>2019</td>\n",
       "    </tr>\n",
       "    <tr>\n",
       "      <th>214</th>\n",
       "      <td>Nauru</td>\n",
       "      <td>Micronesia</td>\n",
       "      <td>Oceania</td>\n",
       "      <td>133</td>\n",
       "      <td>2021</td>\n",
       "      <td>135</td>\n",
       "      <td>2020</td>\n",
       "      <td>118</td>\n",
       "      <td>2019</td>\n",
       "    </tr>\n",
       "    <tr>\n",
       "      <th>215</th>\n",
       "      <td>Montserrat</td>\n",
       "      <td>Caribbean</td>\n",
       "      <td>Americas</td>\n",
       "      <td>NaN</td>\n",
       "      <td>NaN</td>\n",
       "      <td>68</td>\n",
       "      <td>2020</td>\n",
       "      <td>NaN</td>\n",
       "      <td>NaN</td>\n",
       "    </tr>\n",
       "    <tr>\n",
       "      <th>216</th>\n",
       "      <td>Tuvalu</td>\n",
       "      <td>Polynesia</td>\n",
       "      <td>Oceania</td>\n",
       "      <td>65</td>\n",
       "      <td>2021</td>\n",
       "      <td>55</td>\n",
       "      <td>2020</td>\n",
       "      <td>49</td>\n",
       "      <td>2020</td>\n",
       "    </tr>\n",
       "  </tbody>\n",
       "</table>\n",
       "<p>217 rows × 9 columns</p>\n",
       "</div>"
      ],
      "text/plain": [
       "     Country/Territory         Subregion    Region    IMF[1]   IMF[1].1  \\\n",
       "0    Country/Territory         Subregion    Region  Estimate       Year   \n",
       "1        United States  Northern America  Americas  22939580       2021   \n",
       "2                China      Eastern Asia      Asia  16862979  [n 2]2021   \n",
       "3                Japan      Eastern Asia      Asia   5103110       2021   \n",
       "4              Germany    Western Europe    Europe   4230172       2021   \n",
       "..                 ...               ...       ...       ...        ...   \n",
       "212           Kiribati        Micronesia   Oceania       232       2021   \n",
       "213              Palau        Micronesia   Oceania       208       2021   \n",
       "214              Nauru        Micronesia   Oceania       133       2021   \n",
       "215         Montserrat         Caribbean  Americas       NaN        NaN   \n",
       "216             Tuvalu         Polynesia   Oceania        65       2021   \n",
       "\n",
       "    United Nations[12] United Nations[12].1 World Bank[13][14]  \\\n",
       "0             Estimate                 Year           Estimate   \n",
       "1             20893746                 2020           20936600   \n",
       "2             14722801            [n 3]2020           14722731   \n",
       "3              5057759                 2020            4975415   \n",
       "4              3846414                 2020            3806060   \n",
       "..                 ...                  ...                ...   \n",
       "212                181                 2020                200   \n",
       "213                264                 2020                268   \n",
       "214                135                 2020                118   \n",
       "215                 68                 2020                NaN   \n",
       "216                 55                 2020                 49   \n",
       "\n",
       "    World Bank[13][14].1  \n",
       "0                   Year  \n",
       "1                   2020  \n",
       "2                   2020  \n",
       "3                   2020  \n",
       "4                   2020  \n",
       "..                   ...  \n",
       "212                 2020  \n",
       "213                 2019  \n",
       "214                 2019  \n",
       "215                  NaN  \n",
       "216                 2020  \n",
       "\n",
       "[217 rows x 9 columns]"
      ]
     },
     "execution_count": 8,
     "metadata": {},
     "output_type": "execute_result"
    }
   ],
   "source": [
    "DataWiki[0]"
   ]
  },
  {
   "cell_type": "code",
   "execution_count": 9,
   "id": "c758d7c5",
   "metadata": {},
   "outputs": [],
   "source": [
    "# Cleaning the data"
   ]
  },
  {
   "cell_type": "code",
   "execution_count": 10,
   "id": "b999c1cb",
   "metadata": {},
   "outputs": [
    {
     "data": {
      "text/plain": [
       "pandas.core.frame.DataFrame"
      ]
     },
     "execution_count": 10,
     "metadata": {},
     "output_type": "execute_result"
    }
   ],
   "source": [
    "DF=DataWiki[0]\n",
    "type(DF)"
   ]
  },
  {
   "cell_type": "code",
   "execution_count": 11,
   "id": "325e2e8a",
   "metadata": {},
   "outputs": [
    {
     "data": {
      "text/plain": [
       "pandas.core.frame.DataFrame"
      ]
     },
     "execution_count": 11,
     "metadata": {},
     "output_type": "execute_result"
    }
   ],
   "source": [
    "countryDemo1=DF.copy()\n",
    "type(countryDemo1)"
   ]
  },
  {
   "cell_type": "code",
   "execution_count": 12,
   "id": "d3da6f08",
   "metadata": {},
   "outputs": [
    {
     "data": {
      "text/html": [
       "<div>\n",
       "<style scoped>\n",
       "    .dataframe tbody tr th:only-of-type {\n",
       "        vertical-align: middle;\n",
       "    }\n",
       "\n",
       "    .dataframe tbody tr th {\n",
       "        vertical-align: top;\n",
       "    }\n",
       "\n",
       "    .dataframe thead th {\n",
       "        text-align: right;\n",
       "    }\n",
       "</style>\n",
       "<table border=\"1\" class=\"dataframe\">\n",
       "  <thead>\n",
       "    <tr style=\"text-align: right;\">\n",
       "      <th></th>\n",
       "      <th>Country/Territory</th>\n",
       "      <th>Subregion</th>\n",
       "      <th>Region</th>\n",
       "      <th>IMF[1]</th>\n",
       "      <th>IMF[1].1</th>\n",
       "      <th>United Nations[12]</th>\n",
       "      <th>United Nations[12].1</th>\n",
       "      <th>World Bank[13][14]</th>\n",
       "      <th>World Bank[13][14].1</th>\n",
       "    </tr>\n",
       "  </thead>\n",
       "  <tbody>\n",
       "    <tr>\n",
       "      <th>0</th>\n",
       "      <td>Country/Territory</td>\n",
       "      <td>Subregion</td>\n",
       "      <td>Region</td>\n",
       "      <td>Estimate</td>\n",
       "      <td>Year</td>\n",
       "      <td>Estimate</td>\n",
       "      <td>Year</td>\n",
       "      <td>Estimate</td>\n",
       "      <td>Year</td>\n",
       "    </tr>\n",
       "    <tr>\n",
       "      <th>1</th>\n",
       "      <td>United States</td>\n",
       "      <td>Northern America</td>\n",
       "      <td>Americas</td>\n",
       "      <td>22939580</td>\n",
       "      <td>2021</td>\n",
       "      <td>20893746</td>\n",
       "      <td>2020</td>\n",
       "      <td>20936600</td>\n",
       "      <td>2020</td>\n",
       "    </tr>\n",
       "    <tr>\n",
       "      <th>2</th>\n",
       "      <td>China</td>\n",
       "      <td>Eastern Asia</td>\n",
       "      <td>Asia</td>\n",
       "      <td>16862979</td>\n",
       "      <td>[n 2]2021</td>\n",
       "      <td>14722801</td>\n",
       "      <td>[n 3]2020</td>\n",
       "      <td>14722731</td>\n",
       "      <td>2020</td>\n",
       "    </tr>\n",
       "    <tr>\n",
       "      <th>3</th>\n",
       "      <td>Japan</td>\n",
       "      <td>Eastern Asia</td>\n",
       "      <td>Asia</td>\n",
       "      <td>5103110</td>\n",
       "      <td>2021</td>\n",
       "      <td>5057759</td>\n",
       "      <td>2020</td>\n",
       "      <td>4975415</td>\n",
       "      <td>2020</td>\n",
       "    </tr>\n",
       "    <tr>\n",
       "      <th>4</th>\n",
       "      <td>Germany</td>\n",
       "      <td>Western Europe</td>\n",
       "      <td>Europe</td>\n",
       "      <td>4230172</td>\n",
       "      <td>2021</td>\n",
       "      <td>3846414</td>\n",
       "      <td>2020</td>\n",
       "      <td>3806060</td>\n",
       "      <td>2020</td>\n",
       "    </tr>\n",
       "  </tbody>\n",
       "</table>\n",
       "</div>"
      ],
      "text/plain": [
       "   Country/Territory         Subregion    Region    IMF[1]   IMF[1].1  \\\n",
       "0  Country/Territory         Subregion    Region  Estimate       Year   \n",
       "1      United States  Northern America  Americas  22939580       2021   \n",
       "2              China      Eastern Asia      Asia  16862979  [n 2]2021   \n",
       "3              Japan      Eastern Asia      Asia   5103110       2021   \n",
       "4            Germany    Western Europe    Europe   4230172       2021   \n",
       "\n",
       "  United Nations[12] United Nations[12].1 World Bank[13][14]  \\\n",
       "0           Estimate                 Year           Estimate   \n",
       "1           20893746                 2020           20936600   \n",
       "2           14722801            [n 3]2020           14722731   \n",
       "3            5057759                 2020            4975415   \n",
       "4            3846414                 2020            3806060   \n",
       "\n",
       "  World Bank[13][14].1  \n",
       "0                 Year  \n",
       "1                 2020  \n",
       "2                 2020  \n",
       "3                 2020  \n",
       "4                 2020  "
      ]
     },
     "execution_count": 12,
     "metadata": {},
     "output_type": "execute_result"
    }
   ],
   "source": [
    "countryDemo1.head()"
   ]
  },
  {
   "cell_type": "code",
   "execution_count": 13,
   "id": "bf2814cf",
   "metadata": {
    "scrolled": true
   },
   "outputs": [
    {
     "data": {
      "text/html": [
       "<div>\n",
       "<style scoped>\n",
       "    .dataframe tbody tr th:only-of-type {\n",
       "        vertical-align: middle;\n",
       "    }\n",
       "\n",
       "    .dataframe tbody tr th {\n",
       "        vertical-align: top;\n",
       "    }\n",
       "\n",
       "    .dataframe thead th {\n",
       "        text-align: right;\n",
       "    }\n",
       "</style>\n",
       "<table border=\"1\" class=\"dataframe\">\n",
       "  <thead>\n",
       "    <tr style=\"text-align: right;\">\n",
       "      <th></th>\n",
       "      <th>Country/Territory</th>\n",
       "      <th>Subregion</th>\n",
       "      <th>Region</th>\n",
       "    </tr>\n",
       "  </thead>\n",
       "  <tbody>\n",
       "    <tr>\n",
       "      <th>0</th>\n",
       "      <td>Country/Territory</td>\n",
       "      <td>Subregion</td>\n",
       "      <td>Region</td>\n",
       "    </tr>\n",
       "    <tr>\n",
       "      <th>1</th>\n",
       "      <td>United States</td>\n",
       "      <td>Northern America</td>\n",
       "      <td>Americas</td>\n",
       "    </tr>\n",
       "    <tr>\n",
       "      <th>2</th>\n",
       "      <td>China</td>\n",
       "      <td>Eastern Asia</td>\n",
       "      <td>Asia</td>\n",
       "    </tr>\n",
       "    <tr>\n",
       "      <th>3</th>\n",
       "      <td>Japan</td>\n",
       "      <td>Eastern Asia</td>\n",
       "      <td>Asia</td>\n",
       "    </tr>\n",
       "    <tr>\n",
       "      <th>4</th>\n",
       "      <td>Germany</td>\n",
       "      <td>Western Europe</td>\n",
       "      <td>Europe</td>\n",
       "    </tr>\n",
       "    <tr>\n",
       "      <th>...</th>\n",
       "      <td>...</td>\n",
       "      <td>...</td>\n",
       "      <td>...</td>\n",
       "    </tr>\n",
       "    <tr>\n",
       "      <th>212</th>\n",
       "      <td>Kiribati</td>\n",
       "      <td>Micronesia</td>\n",
       "      <td>Oceania</td>\n",
       "    </tr>\n",
       "    <tr>\n",
       "      <th>213</th>\n",
       "      <td>Palau</td>\n",
       "      <td>Micronesia</td>\n",
       "      <td>Oceania</td>\n",
       "    </tr>\n",
       "    <tr>\n",
       "      <th>214</th>\n",
       "      <td>Nauru</td>\n",
       "      <td>Micronesia</td>\n",
       "      <td>Oceania</td>\n",
       "    </tr>\n",
       "    <tr>\n",
       "      <th>215</th>\n",
       "      <td>Montserrat</td>\n",
       "      <td>Caribbean</td>\n",
       "      <td>Americas</td>\n",
       "    </tr>\n",
       "    <tr>\n",
       "      <th>216</th>\n",
       "      <td>Tuvalu</td>\n",
       "      <td>Polynesia</td>\n",
       "      <td>Oceania</td>\n",
       "    </tr>\n",
       "  </tbody>\n",
       "</table>\n",
       "<p>217 rows × 3 columns</p>\n",
       "</div>"
      ],
      "text/plain": [
       "     Country/Territory         Subregion    Region\n",
       "0    Country/Territory         Subregion    Region\n",
       "1        United States  Northern America  Americas\n",
       "2                China      Eastern Asia      Asia\n",
       "3                Japan      Eastern Asia      Asia\n",
       "4              Germany    Western Europe    Europe\n",
       "..                 ...               ...       ...\n",
       "212           Kiribati        Micronesia   Oceania\n",
       "213              Palau        Micronesia   Oceania\n",
       "214              Nauru        Micronesia   Oceania\n",
       "215         Montserrat         Caribbean  Americas\n",
       "216             Tuvalu         Polynesia   Oceania\n",
       "\n",
       "[217 rows x 3 columns]"
      ]
     },
     "execution_count": 13,
     "metadata": {},
     "output_type": "execute_result"
    }
   ],
   "source": [
    "#column positions to drop\n",
    "whichToDrop=[3,4,5,6,7,8]\n",
    "\n",
    "#dropping and updating the data frame\n",
    "countryDemo1.drop(labels=countryDemo1.columns[whichToDrop],axis=1,inplace=True)\n",
    "\n",
    "countryDemo1"
   ]
  },
  {
   "cell_type": "code",
   "execution_count": 14,
   "id": "03f85d8e",
   "metadata": {},
   "outputs": [],
   "source": [
    "# Dropping the first row\n",
    "countryDemo1.drop(countryDemo1.index[0], inplace=True)"
   ]
  },
  {
   "cell_type": "code",
   "execution_count": 15,
   "id": "50a65ada",
   "metadata": {},
   "outputs": [
    {
     "data": {
      "text/html": [
       "<div>\n",
       "<style scoped>\n",
       "    .dataframe tbody tr th:only-of-type {\n",
       "        vertical-align: middle;\n",
       "    }\n",
       "\n",
       "    .dataframe tbody tr th {\n",
       "        vertical-align: top;\n",
       "    }\n",
       "\n",
       "    .dataframe thead th {\n",
       "        text-align: right;\n",
       "    }\n",
       "</style>\n",
       "<table border=\"1\" class=\"dataframe\">\n",
       "  <thead>\n",
       "    <tr style=\"text-align: right;\">\n",
       "      <th></th>\n",
       "      <th>Country</th>\n",
       "      <th>Subregion</th>\n",
       "      <th>Region</th>\n",
       "    </tr>\n",
       "  </thead>\n",
       "  <tbody>\n",
       "    <tr>\n",
       "      <th>1</th>\n",
       "      <td>United States</td>\n",
       "      <td>Northern America</td>\n",
       "      <td>Americas</td>\n",
       "    </tr>\n",
       "    <tr>\n",
       "      <th>2</th>\n",
       "      <td>China</td>\n",
       "      <td>Eastern Asia</td>\n",
       "      <td>Asia</td>\n",
       "    </tr>\n",
       "    <tr>\n",
       "      <th>3</th>\n",
       "      <td>Japan</td>\n",
       "      <td>Eastern Asia</td>\n",
       "      <td>Asia</td>\n",
       "    </tr>\n",
       "    <tr>\n",
       "      <th>4</th>\n",
       "      <td>Germany</td>\n",
       "      <td>Western Europe</td>\n",
       "      <td>Europe</td>\n",
       "    </tr>\n",
       "    <tr>\n",
       "      <th>5</th>\n",
       "      <td>United Kingdom</td>\n",
       "      <td>Northern Europe</td>\n",
       "      <td>Europe</td>\n",
       "    </tr>\n",
       "  </tbody>\n",
       "</table>\n",
       "</div>"
      ],
      "text/plain": [
       "          Country         Subregion    Region\n",
       "1   United States  Northern America  Americas\n",
       "2           China      Eastern Asia      Asia\n",
       "3           Japan      Eastern Asia      Asia\n",
       "4         Germany    Western Europe    Europe\n",
       "5  United Kingdom   Northern Europe    Europe"
      ]
     },
     "execution_count": 15,
     "metadata": {},
     "output_type": "execute_result"
    }
   ],
   "source": [
    "# all columns\n",
    "countryDemo1.columns=['Country', 'Subregion', 'Region']\n",
    "#see changes:\n",
    "countryDemo1.head()"
   ]
  },
  {
   "cell_type": "code",
   "execution_count": 16,
   "id": "4f10cd73",
   "metadata": {},
   "outputs": [
    {
     "data": {
      "text/plain": [
       "'United States'"
      ]
     },
     "execution_count": 16,
     "metadata": {},
     "output_type": "execute_result"
    }
   ],
   "source": [
    "# check country names\n",
    "countryDemo1.Country[1]"
   ]
  },
  {
   "cell_type": "code",
   "execution_count": 17,
   "id": "7bb22aaa",
   "metadata": {},
   "outputs": [],
   "source": [
    "# index 0 is missing \n",
    "# reset the indexes of the data frame:\n",
    "\n",
    "# new indexes will appear\n",
    "countryDemo1.reset_index(drop=True,inplace=True)"
   ]
  },
  {
   "cell_type": "code",
   "execution_count": 18,
   "id": "b13121a7",
   "metadata": {},
   "outputs": [
    {
     "data": {
      "text/plain": [
       "'United States'"
      ]
     },
     "execution_count": 18,
     "metadata": {},
     "output_type": "execute_result"
    }
   ],
   "source": [
    "countryDemo1.Country[0]"
   ]
  },
  {
   "cell_type": "code",
   "execution_count": 19,
   "id": "496c6671",
   "metadata": {},
   "outputs": [],
   "source": [
    "# no trailing nor leading spaces:\n",
    "countryDemo1['Country']=countryDemo1.Country.str.strip()"
   ]
  },
  {
   "cell_type": "code",
   "execution_count": 20,
   "id": "35f0e36e",
   "metadata": {},
   "outputs": [
    {
     "data": {
      "text/html": [
       "<div>\n",
       "<style scoped>\n",
       "    .dataframe tbody tr th:only-of-type {\n",
       "        vertical-align: middle;\n",
       "    }\n",
       "\n",
       "    .dataframe tbody tr th {\n",
       "        vertical-align: top;\n",
       "    }\n",
       "\n",
       "    .dataframe thead th {\n",
       "        text-align: right;\n",
       "    }\n",
       "</style>\n",
       "<table border=\"1\" class=\"dataframe\">\n",
       "  <thead>\n",
       "    <tr style=\"text-align: right;\">\n",
       "      <th></th>\n",
       "      <th>Country</th>\n",
       "      <th>Subregion</th>\n",
       "      <th>Region</th>\n",
       "    </tr>\n",
       "  </thead>\n",
       "  <tbody>\n",
       "    <tr>\n",
       "      <th>0</th>\n",
       "      <td>United States</td>\n",
       "      <td>Northern America</td>\n",
       "      <td>Americas</td>\n",
       "    </tr>\n",
       "    <tr>\n",
       "      <th>1</th>\n",
       "      <td>China</td>\n",
       "      <td>Eastern Asia</td>\n",
       "      <td>Asia</td>\n",
       "    </tr>\n",
       "    <tr>\n",
       "      <th>2</th>\n",
       "      <td>Japan</td>\n",
       "      <td>Eastern Asia</td>\n",
       "      <td>Asia</td>\n",
       "    </tr>\n",
       "    <tr>\n",
       "      <th>3</th>\n",
       "      <td>Germany</td>\n",
       "      <td>Western Europe</td>\n",
       "      <td>Europe</td>\n",
       "    </tr>\n",
       "    <tr>\n",
       "      <th>4</th>\n",
       "      <td>United Kingdom</td>\n",
       "      <td>Northern Europe</td>\n",
       "      <td>Europe</td>\n",
       "    </tr>\n",
       "    <tr>\n",
       "      <th>...</th>\n",
       "      <td>...</td>\n",
       "      <td>...</td>\n",
       "      <td>...</td>\n",
       "    </tr>\n",
       "    <tr>\n",
       "      <th>211</th>\n",
       "      <td>Kiribati</td>\n",
       "      <td>Micronesia</td>\n",
       "      <td>Oceania</td>\n",
       "    </tr>\n",
       "    <tr>\n",
       "      <th>212</th>\n",
       "      <td>Palau</td>\n",
       "      <td>Micronesia</td>\n",
       "      <td>Oceania</td>\n",
       "    </tr>\n",
       "    <tr>\n",
       "      <th>213</th>\n",
       "      <td>Nauru</td>\n",
       "      <td>Micronesia</td>\n",
       "      <td>Oceania</td>\n",
       "    </tr>\n",
       "    <tr>\n",
       "      <th>214</th>\n",
       "      <td>Montserrat</td>\n",
       "      <td>Caribbean</td>\n",
       "      <td>Americas</td>\n",
       "    </tr>\n",
       "    <tr>\n",
       "      <th>215</th>\n",
       "      <td>Tuvalu</td>\n",
       "      <td>Polynesia</td>\n",
       "      <td>Oceania</td>\n",
       "    </tr>\n",
       "  </tbody>\n",
       "</table>\n",
       "<p>216 rows × 3 columns</p>\n",
       "</div>"
      ],
      "text/plain": [
       "            Country         Subregion    Region\n",
       "0     United States  Northern America  Americas\n",
       "1             China      Eastern Asia      Asia\n",
       "2             Japan      Eastern Asia      Asia\n",
       "3           Germany    Western Europe    Europe\n",
       "4    United Kingdom   Northern Europe    Europe\n",
       "..              ...               ...       ...\n",
       "211        Kiribati        Micronesia   Oceania\n",
       "212           Palau        Micronesia   Oceania\n",
       "213           Nauru        Micronesia   Oceania\n",
       "214      Montserrat         Caribbean  Americas\n",
       "215          Tuvalu         Polynesia   Oceania\n",
       "\n",
       "[216 rows x 3 columns]"
      ]
     },
     "execution_count": 20,
     "metadata": {},
     "output_type": "execute_result"
    }
   ],
   "source": [
    "# apply them to all columns\n",
    "byeSpaces= lambda COLUMN:COLUMN.str.strip()\n",
    "\n",
    "countryDemo1.apply(byeSpaces)"
   ]
  },
  {
   "cell_type": "code",
   "execution_count": 21,
   "id": "91906815",
   "metadata": {},
   "outputs": [],
   "source": [
    "# save the result\n",
    "countryDemo1=countryDemo1.apply(byeSpaces)"
   ]
  },
  {
   "cell_type": "code",
   "execution_count": 45,
   "id": "c1481186",
   "metadata": {},
   "outputs": [
    {
     "data": {
      "text/html": [
       "<div>\n",
       "<style scoped>\n",
       "    .dataframe tbody tr th:only-of-type {\n",
       "        vertical-align: middle;\n",
       "    }\n",
       "\n",
       "    .dataframe tbody tr th {\n",
       "        vertical-align: top;\n",
       "    }\n",
       "\n",
       "    .dataframe thead th {\n",
       "        text-align: right;\n",
       "    }\n",
       "</style>\n",
       "<table border=\"1\" class=\"dataframe\">\n",
       "  <thead>\n",
       "    <tr style=\"text-align: right;\">\n",
       "      <th></th>\n",
       "      <th>Country</th>\n",
       "      <th>Subregion</th>\n",
       "      <th>Region</th>\n",
       "    </tr>\n",
       "  </thead>\n",
       "  <tbody>\n",
       "    <tr>\n",
       "      <th>0</th>\n",
       "      <td>United States</td>\n",
       "      <td>Northern America</td>\n",
       "      <td>Americas</td>\n",
       "    </tr>\n",
       "    <tr>\n",
       "      <th>1</th>\n",
       "      <td>China</td>\n",
       "      <td>Eastern Asia</td>\n",
       "      <td>Asia</td>\n",
       "    </tr>\n",
       "    <tr>\n",
       "      <th>2</th>\n",
       "      <td>Japan</td>\n",
       "      <td>Eastern Asia</td>\n",
       "      <td>Asia</td>\n",
       "    </tr>\n",
       "    <tr>\n",
       "      <th>3</th>\n",
       "      <td>Germany</td>\n",
       "      <td>Western Europe</td>\n",
       "      <td>Europe</td>\n",
       "    </tr>\n",
       "    <tr>\n",
       "      <th>4</th>\n",
       "      <td>United Kingdom</td>\n",
       "      <td>Northern Europe</td>\n",
       "      <td>Europe</td>\n",
       "    </tr>\n",
       "  </tbody>\n",
       "</table>\n",
       "</div>"
      ],
      "text/plain": [
       "          Country         Subregion    Region\n",
       "0   United States  Northern America  Americas\n",
       "1           China      Eastern Asia      Asia\n",
       "2           Japan      Eastern Asia      Asia\n",
       "3         Germany    Western Europe    Europe\n",
       "4  United Kingdom   Northern Europe    Europe"
      ]
     },
     "execution_count": 45,
     "metadata": {},
     "output_type": "execute_result"
    }
   ],
   "source": [
    "countryDemo1.head()"
   ]
  },
  {
   "cell_type": "code",
   "execution_count": 47,
   "id": "463c1a1e",
   "metadata": {},
   "outputs": [
    {
     "data": {
      "text/plain": [
       "Africa      55\n",
       "Asia        51\n",
       "Americas    46\n",
       "Europe      44\n",
       "Oceania     20\n",
       "Name: Region, dtype: int64"
      ]
     },
     "execution_count": 47,
     "metadata": {},
     "output_type": "execute_result"
    }
   ],
   "source": [
    "#clean content\n",
    "# frequency table using \"value_counts\"\n",
    "countryDemo1['Subregion'].value_counts()\n",
    "countryDemo1['Region'].value_counts()"
   ]
  },
  {
   "cell_type": "markdown",
   "id": "553db478",
   "metadata": {},
   "source": [
    "# 2. Reading data table from files downloaded"
   ]
  },
  {
   "cell_type": "code",
   "execution_count": 22,
   "id": "276ec010",
   "metadata": {},
   "outputs": [
    {
     "name": "stdout",
     "output_type": "stream",
     "text": [
      "Requirement already satisfied: xlrd in d:\\software2\\anaconda3\\anaconda\\lib\\site-packages (2.0.1)\n",
      "Requirement already satisfied: openpyxl in d:\\software2\\anaconda3\\anaconda\\lib\\site-packages (3.0.9)\n",
      "Requirement already satisfied: et-xmlfile in d:\\software2\\anaconda3\\anaconda\\lib\\site-packages (from openpyxl) (1.1.0)\n"
     ]
    }
   ],
   "source": [
    "!pip install xlrd\n",
    "!pip install openpyxl"
   ]
  },
  {
   "cell_type": "code",
   "execution_count": 23,
   "id": "53e3f6f4",
   "metadata": {},
   "outputs": [],
   "source": [
    "cloudLocation_AllMyFiles='https://raw.githubusercontent.com/ksyanyu/542/main/'\n",
    "\n",
    "linkToEXCEL_FileTotal=cloudLocation_AllMyFiles+'plastic-waste-generation-total.csv'\n",
    "linkToEXCEL_FileCapita=cloudLocation_AllMyFiles+'plastic-waste-per-capita.csv'\n",
    "linkToEXCEL_FileMismanaged=cloudLocation_AllMyFiles+'mismanaged-waste-global-total.csv' # '+' concatenates text.\n",
    "linkToEXCEL_FileMismanagedFuture=cloudLocation_AllMyFiles+'share-mismanaged-waste-in-2025.csv'"
   ]
  },
  {
   "cell_type": "code",
   "execution_count": 24,
   "id": "5f1361a5",
   "metadata": {},
   "outputs": [],
   "source": [
    "dfExcelTotal=pd.read_csv(linkToEXCEL_FileTotal)\n",
    "dfExcelCapita=pd.read_csv(linkToEXCEL_FileCapita)\n",
    "dfExcelMismanaged=pd.read_csv(linkToEXCEL_FileMismanaged)\n",
    "dfExcelMismanagedFuture=pd.read_csv(linkToEXCEL_FileMismanagedFuture)"
   ]
  },
  {
   "cell_type": "code",
   "execution_count": 25,
   "id": "076f8d71",
   "metadata": {},
   "outputs": [
    {
     "data": {
      "text/html": [
       "<div>\n",
       "<style scoped>\n",
       "    .dataframe tbody tr th:only-of-type {\n",
       "        vertical-align: middle;\n",
       "    }\n",
       "\n",
       "    .dataframe tbody tr th {\n",
       "        vertical-align: top;\n",
       "    }\n",
       "\n",
       "    .dataframe thead th {\n",
       "        text-align: right;\n",
       "    }\n",
       "</style>\n",
       "<table border=\"1\" class=\"dataframe\">\n",
       "  <thead>\n",
       "    <tr style=\"text-align: right;\">\n",
       "      <th></th>\n",
       "      <th>Entity</th>\n",
       "      <th>Code</th>\n",
       "      <th>Year</th>\n",
       "      <th>Plastic waste generation (tonnes, total)</th>\n",
       "    </tr>\n",
       "  </thead>\n",
       "  <tbody>\n",
       "    <tr>\n",
       "      <th>0</th>\n",
       "      <td>Albania</td>\n",
       "      <td>ALB</td>\n",
       "      <td>2010</td>\n",
       "      <td>73364</td>\n",
       "    </tr>\n",
       "    <tr>\n",
       "      <th>1</th>\n",
       "      <td>Algeria</td>\n",
       "      <td>DZA</td>\n",
       "      <td>2010</td>\n",
       "      <td>1898343</td>\n",
       "    </tr>\n",
       "    <tr>\n",
       "      <th>2</th>\n",
       "      <td>Angola</td>\n",
       "      <td>AGO</td>\n",
       "      <td>2010</td>\n",
       "      <td>528843</td>\n",
       "    </tr>\n",
       "    <tr>\n",
       "      <th>3</th>\n",
       "      <td>Antigua and Barbuda</td>\n",
       "      <td>ATG</td>\n",
       "      <td>2010</td>\n",
       "      <td>22804</td>\n",
       "    </tr>\n",
       "    <tr>\n",
       "      <th>4</th>\n",
       "      <td>Argentina</td>\n",
       "      <td>ARG</td>\n",
       "      <td>2010</td>\n",
       "      <td>2753550</td>\n",
       "    </tr>\n",
       "  </tbody>\n",
       "</table>\n",
       "</div>"
      ],
      "text/plain": [
       "                Entity Code  Year  Plastic waste generation (tonnes, total)\n",
       "0              Albania  ALB  2010                                     73364\n",
       "1              Algeria  DZA  2010                                   1898343\n",
       "2               Angola  AGO  2010                                    528843\n",
       "3  Antigua and Barbuda  ATG  2010                                     22804\n",
       "4            Argentina  ARG  2010                                   2753550"
      ]
     },
     "execution_count": 25,
     "metadata": {},
     "output_type": "execute_result"
    }
   ],
   "source": [
    "dfExcelTotal.head()"
   ]
  },
  {
   "cell_type": "code",
   "execution_count": 26,
   "id": "968f09f8",
   "metadata": {},
   "outputs": [
    {
     "data": {
      "text/html": [
       "<div>\n",
       "<style scoped>\n",
       "    .dataframe tbody tr th:only-of-type {\n",
       "        vertical-align: middle;\n",
       "    }\n",
       "\n",
       "    .dataframe tbody tr th {\n",
       "        vertical-align: top;\n",
       "    }\n",
       "\n",
       "    .dataframe thead th {\n",
       "        text-align: right;\n",
       "    }\n",
       "</style>\n",
       "<table border=\"1\" class=\"dataframe\">\n",
       "  <thead>\n",
       "    <tr style=\"text-align: right;\">\n",
       "      <th></th>\n",
       "      <th>Entity</th>\n",
       "      <th>Code</th>\n",
       "      <th>Year</th>\n",
       "      <th>Plastic waste generation (tonnes, total)</th>\n",
       "    </tr>\n",
       "  </thead>\n",
       "  <tbody>\n",
       "    <tr>\n",
       "      <th>163</th>\n",
       "      <td>Uruguay</td>\n",
       "      <td>URY</td>\n",
       "      <td>2010</td>\n",
       "      <td>310379</td>\n",
       "    </tr>\n",
       "    <tr>\n",
       "      <th>164</th>\n",
       "      <td>Vanuatu</td>\n",
       "      <td>VUT</td>\n",
       "      <td>2010</td>\n",
       "      <td>25443</td>\n",
       "    </tr>\n",
       "    <tr>\n",
       "      <th>165</th>\n",
       "      <td>Venezuela</td>\n",
       "      <td>VEN</td>\n",
       "      <td>2010</td>\n",
       "      <td>2669998</td>\n",
       "    </tr>\n",
       "    <tr>\n",
       "      <th>166</th>\n",
       "      <td>Vietnam</td>\n",
       "      <td>VNM</td>\n",
       "      <td>2010</td>\n",
       "      <td>3268227</td>\n",
       "    </tr>\n",
       "    <tr>\n",
       "      <th>167</th>\n",
       "      <td>Yemen</td>\n",
       "      <td>YEM</td>\n",
       "      <td>2010</td>\n",
       "      <td>887497</td>\n",
       "    </tr>\n",
       "  </tbody>\n",
       "</table>\n",
       "</div>"
      ],
      "text/plain": [
       "        Entity Code  Year  Plastic waste generation (tonnes, total)\n",
       "163    Uruguay  URY  2010                                    310379\n",
       "164    Vanuatu  VUT  2010                                     25443\n",
       "165  Venezuela  VEN  2010                                   2669998\n",
       "166    Vietnam  VNM  2010                                   3268227\n",
       "167      Yemen  YEM  2010                                    887497"
      ]
     },
     "execution_count": 26,
     "metadata": {},
     "output_type": "execute_result"
    }
   ],
   "source": [
    "dfExcelTotal.tail()"
   ]
  },
  {
   "cell_type": "code",
   "execution_count": 27,
   "id": "d94f1615",
   "metadata": {},
   "outputs": [],
   "source": [
    "# Cleaning the data"
   ]
  },
  {
   "cell_type": "code",
   "execution_count": 28,
   "id": "da9987fa",
   "metadata": {},
   "outputs": [],
   "source": [
    "# Rename the colomns                   \n",
    "dfExcelTotal.rename(columns={'Entity':'Country'}, inplace=True)  "
   ]
  },
  {
   "cell_type": "code",
   "execution_count": 29,
   "id": "26d430b9",
   "metadata": {},
   "outputs": [],
   "source": [
    "dfExcelCapita.rename(columns={'Entity':'Country'}, inplace=True) \n",
    "dfExcelMismanaged.rename(columns={'Entity':'Country'}, inplace=True) \n",
    "dfExcelMismanagedFuture.rename(columns={'Entity':'Country'}, inplace=True) "
   ]
  },
  {
   "cell_type": "code",
   "execution_count": 30,
   "id": "39b45713",
   "metadata": {},
   "outputs": [
    {
     "data": {
      "text/html": [
       "<div>\n",
       "<style scoped>\n",
       "    .dataframe tbody tr th:only-of-type {\n",
       "        vertical-align: middle;\n",
       "    }\n",
       "\n",
       "    .dataframe tbody tr th {\n",
       "        vertical-align: top;\n",
       "    }\n",
       "\n",
       "    .dataframe thead th {\n",
       "        text-align: right;\n",
       "    }\n",
       "</style>\n",
       "<table border=\"1\" class=\"dataframe\">\n",
       "  <thead>\n",
       "    <tr style=\"text-align: right;\">\n",
       "      <th></th>\n",
       "      <th>Country</th>\n",
       "      <th>Code</th>\n",
       "      <th>Year</th>\n",
       "      <th>Plastic waste generation (tonnes, total)</th>\n",
       "    </tr>\n",
       "  </thead>\n",
       "  <tbody>\n",
       "    <tr>\n",
       "      <th>0</th>\n",
       "      <td>Albania</td>\n",
       "      <td>ALB</td>\n",
       "      <td>2010</td>\n",
       "      <td>73364</td>\n",
       "    </tr>\n",
       "    <tr>\n",
       "      <th>1</th>\n",
       "      <td>Algeria</td>\n",
       "      <td>DZA</td>\n",
       "      <td>2010</td>\n",
       "      <td>1898343</td>\n",
       "    </tr>\n",
       "    <tr>\n",
       "      <th>2</th>\n",
       "      <td>Angola</td>\n",
       "      <td>AGO</td>\n",
       "      <td>2010</td>\n",
       "      <td>528843</td>\n",
       "    </tr>\n",
       "    <tr>\n",
       "      <th>3</th>\n",
       "      <td>Antigua and Barbuda</td>\n",
       "      <td>ATG</td>\n",
       "      <td>2010</td>\n",
       "      <td>22804</td>\n",
       "    </tr>\n",
       "    <tr>\n",
       "      <th>4</th>\n",
       "      <td>Argentina</td>\n",
       "      <td>ARG</td>\n",
       "      <td>2010</td>\n",
       "      <td>2753550</td>\n",
       "    </tr>\n",
       "  </tbody>\n",
       "</table>\n",
       "</div>"
      ],
      "text/plain": [
       "               Country Code  Year  Plastic waste generation (tonnes, total)\n",
       "0              Albania  ALB  2010                                     73364\n",
       "1              Algeria  DZA  2010                                   1898343\n",
       "2               Angola  AGO  2010                                    528843\n",
       "3  Antigua and Barbuda  ATG  2010                                     22804\n",
       "4            Argentina  ARG  2010                                   2753550"
      ]
     },
     "execution_count": 30,
     "metadata": {},
     "output_type": "execute_result"
    }
   ],
   "source": [
    "dfExcelTotal.head()"
   ]
  },
  {
   "cell_type": "code",
   "execution_count": 31,
   "id": "4c39c340",
   "metadata": {},
   "outputs": [
    {
     "data": {
      "text/plain": [
       "Index(['Country', 'Code', 'Year', 'Plasticwastegeneration(tonnes,total)'], dtype='object')"
      ]
     },
     "execution_count": 31,
     "metadata": {},
     "output_type": "execute_result"
    }
   ],
   "source": [
    "# chean the dashes\n",
    "# using pandas own replace function\n",
    "dfExcelTotal.columns=dfExcelTotal.columns.str.replace(\"\\s|\\xad\",\"\",regex=True)\n",
    "\n",
    "# current colum names\n",
    "dfExcelTotal.columns"
   ]
  },
  {
   "cell_type": "code",
   "execution_count": 36,
   "id": "2c7a1dd1",
   "metadata": {},
   "outputs": [
    {
     "data": {
      "text/plain": [
       "Index(['Country', 'Code', 'Year', 'Plasticwastegeneration(tonnes)'], dtype='object')"
      ]
     },
     "execution_count": 36,
     "metadata": {},
     "output_type": "execute_result"
    }
   ],
   "source": [
    "dfExcelTotal.rename(columns={'Plasticwastegeneration':'Plasticwastegeneration(tonnes)'}, inplace=True) \n",
    "dfExcelTotal.columns"
   ]
  },
  {
   "cell_type": "code",
   "execution_count": 38,
   "id": "5b8740a1",
   "metadata": {},
   "outputs": [
    {
     "name": "stderr",
     "output_type": "stream",
     "text": [
      "C:\\Users\\Public\\Documents\\Wondershare\\CreatorTemp/ipykernel_8204/2514018277.py:1: UserWarning: Pandas doesn't allow columns to be created via a new attribute name - see https://pandas.pydata.org/pandas-docs/stable/indexing.html#attribute-access\n",
      "  dfExcelCapita.Capita=dfExcelCapita.columns.str.replace(\"\\s|\\xad\",\"\",regex=True)\n"
     ]
    },
    {
     "data": {
      "text/plain": [
       "Index(['Country', 'Code', 'Year', 'Percapitaplasticwaste(kg/person/day)'], dtype='object')"
      ]
     },
     "execution_count": 38,
     "metadata": {},
     "output_type": "execute_result"
    }
   ],
   "source": [
    "dfExcelCapita.Capita=dfExcelCapita.columns.str.replace(\"\\s|\\xad\",\"\",regex=True)\n",
    "\n",
    "# current colum names\n",
    "dfExcelCapita.columns"
   ]
  },
  {
   "cell_type": "code",
   "execution_count": 39,
   "id": "5b87ea48",
   "metadata": {},
   "outputs": [
    {
     "data": {
      "text/plain": [
       "Index(['Country', 'Code', 'Year', 'Mismanagedwaste(%globaltotal)'], dtype='object')"
      ]
     },
     "execution_count": 39,
     "metadata": {},
     "output_type": "execute_result"
    }
   ],
   "source": [
    "dfExcelMismanaged.columns=dfExcelMismanaged.columns.str.replace(\"\\s|\\xad\",\"\",regex=True)\n",
    "\n",
    "# current colum names\n",
    "dfExcelMismanaged.columns"
   ]
  },
  {
   "cell_type": "code",
   "execution_count": 40,
   "id": "7504e900",
   "metadata": {},
   "outputs": [
    {
     "data": {
      "text/html": [
       "<div>\n",
       "<style scoped>\n",
       "    .dataframe tbody tr th:only-of-type {\n",
       "        vertical-align: middle;\n",
       "    }\n",
       "\n",
       "    .dataframe tbody tr th {\n",
       "        vertical-align: top;\n",
       "    }\n",
       "\n",
       "    .dataframe thead th {\n",
       "        text-align: right;\n",
       "    }\n",
       "</style>\n",
       "<table border=\"1\" class=\"dataframe\">\n",
       "  <thead>\n",
       "    <tr style=\"text-align: right;\">\n",
       "      <th></th>\n",
       "      <th>Country</th>\n",
       "      <th>Code</th>\n",
       "      <th>Year</th>\n",
       "      <th>Mismanagedwaste(%globaltotal)</th>\n",
       "    </tr>\n",
       "  </thead>\n",
       "  <tbody>\n",
       "    <tr>\n",
       "      <th>0</th>\n",
       "      <td>Albania</td>\n",
       "      <td>ALB</td>\n",
       "      <td>2010</td>\n",
       "      <td>0.0933</td>\n",
       "    </tr>\n",
       "    <tr>\n",
       "      <th>1</th>\n",
       "      <td>Algeria</td>\n",
       "      <td>DZA</td>\n",
       "      <td>2010</td>\n",
       "      <td>1.6347</td>\n",
       "    </tr>\n",
       "    <tr>\n",
       "      <th>2</th>\n",
       "      <td>Angola</td>\n",
       "      <td>AGO</td>\n",
       "      <td>2010</td>\n",
       "      <td>0.1964</td>\n",
       "    </tr>\n",
       "    <tr>\n",
       "      <th>3</th>\n",
       "      <td>Anguilla</td>\n",
       "      <td>AIA</td>\n",
       "      <td>2010</td>\n",
       "      <td>0.0002</td>\n",
       "    </tr>\n",
       "    <tr>\n",
       "      <th>4</th>\n",
       "      <td>Antigua and Barbuda</td>\n",
       "      <td>ATG</td>\n",
       "      <td>2010</td>\n",
       "      <td>0.0039</td>\n",
       "    </tr>\n",
       "  </tbody>\n",
       "</table>\n",
       "</div>"
      ],
      "text/plain": [
       "               Country Code  Year  Mismanagedwaste(%globaltotal)\n",
       "0              Albania  ALB  2010                         0.0933\n",
       "1              Algeria  DZA  2010                         1.6347\n",
       "2               Angola  AGO  2010                         0.1964\n",
       "3             Anguilla  AIA  2010                         0.0002\n",
       "4  Antigua and Barbuda  ATG  2010                         0.0039"
      ]
     },
     "execution_count": 40,
     "metadata": {},
     "output_type": "execute_result"
    }
   ],
   "source": [
    "dfExcelMismanaged.head()"
   ]
  },
  {
   "cell_type": "code",
   "execution_count": 41,
   "id": "8c54645a",
   "metadata": {},
   "outputs": [
    {
     "data": {
      "text/plain": [
       "Index(['Country', 'Code', 'Year', 'Mismanagedwaste(percent)'], dtype='object')"
      ]
     },
     "execution_count": 41,
     "metadata": {},
     "output_type": "execute_result"
    }
   ],
   "source": [
    "dfExcelMismanaged.rename(columns={'Mismanagedwaste(%globaltotal)':'Mismanagedwaste(percent)'}, inplace=True) \n",
    "dfExcelMismanaged.columns"
   ]
  },
  {
   "cell_type": "code",
   "execution_count": 42,
   "id": "1a238ae4",
   "metadata": {},
   "outputs": [
    {
     "data": {
      "text/plain": [
       "Index(['Country', 'Code', 'Year', 'Mismanagedwastein2025(%globaltotal)'], dtype='object')"
      ]
     },
     "execution_count": 42,
     "metadata": {},
     "output_type": "execute_result"
    }
   ],
   "source": [
    "dfExcelMismanagedFuture.columns=dfExcelMismanagedFuture.columns.str.replace(\"\\s|\\xad\",\"\",regex=True)\n",
    "\n",
    "# current colum names\n",
    "dfExcelMismanagedFuture.columns"
   ]
  },
  {
   "cell_type": "code",
   "execution_count": 43,
   "id": "7b1c65f2",
   "metadata": {},
   "outputs": [
    {
     "data": {
      "text/plain": [
       "Index(['Country', 'Code', 'Year', 'Mismanagedwaste2025(percent)'], dtype='object')"
      ]
     },
     "execution_count": 43,
     "metadata": {},
     "output_type": "execute_result"
    }
   ],
   "source": [
    "dfExcelMismanagedFuture.rename(columns={'Mismanagedwastein2025(%globaltotal)':'Mismanagedwaste2025(percent)'}, inplace=True) \n",
    "dfExcelMismanagedFuture.columns"
   ]
  },
  {
   "cell_type": "code",
   "execution_count": 54,
   "id": "66787531",
   "metadata": {},
   "outputs": [
    {
     "data": {
      "text/plain": [
       "(186, 4)"
      ]
     },
     "execution_count": 54,
     "metadata": {},
     "output_type": "execute_result"
    }
   ],
   "source": [
    "dfExcelMismanaged.shape"
   ]
  },
  {
   "cell_type": "markdown",
   "id": "36ec1b1a",
   "metadata": {},
   "source": [
    "# 3. Integrating the tables"
   ]
  },
  {
   "cell_type": "code",
   "execution_count": 80,
   "id": "fb5ba9b5",
   "metadata": {},
   "outputs": [],
   "source": [
    "# want to keep all the rows, matched and unmatched, from both data frames\n",
    "# merge 'outer' keeps all matched and unmatched\n",
    "# merge 'indicator' will tell you if the key was found in 'both' or only in one of them\n",
    "allData1=dfExcelCapita.merge(dfExcelTotal,left_on=[\"Country\", \"Code\", \"Year\"], right_on=[\"Country\", \"Code\", \"Year\"],how='outer')"
   ]
  },
  {
   "cell_type": "code",
   "execution_count": 81,
   "id": "db957039",
   "metadata": {},
   "outputs": [
    {
     "data": {
      "text/html": [
       "<div>\n",
       "<style scoped>\n",
       "    .dataframe tbody tr th:only-of-type {\n",
       "        vertical-align: middle;\n",
       "    }\n",
       "\n",
       "    .dataframe tbody tr th {\n",
       "        vertical-align: top;\n",
       "    }\n",
       "\n",
       "    .dataframe thead th {\n",
       "        text-align: right;\n",
       "    }\n",
       "</style>\n",
       "<table border=\"1\" class=\"dataframe\">\n",
       "  <thead>\n",
       "    <tr style=\"text-align: right;\">\n",
       "      <th></th>\n",
       "      <th>Country</th>\n",
       "      <th>Code</th>\n",
       "      <th>Year</th>\n",
       "      <th>Percapitaplasticwaste(kg/person/day)</th>\n",
       "      <th>Plasticwastegeneration(tonnes)</th>\n",
       "    </tr>\n",
       "  </thead>\n",
       "  <tbody>\n",
       "    <tr>\n",
       "      <th>0</th>\n",
       "      <td>Albania</td>\n",
       "      <td>ALB</td>\n",
       "      <td>2010</td>\n",
       "      <td>0.069</td>\n",
       "      <td>73364.0</td>\n",
       "    </tr>\n",
       "    <tr>\n",
       "      <th>1</th>\n",
       "      <td>Algeria</td>\n",
       "      <td>DZA</td>\n",
       "      <td>2010</td>\n",
       "      <td>0.144</td>\n",
       "      <td>1898343.0</td>\n",
       "    </tr>\n",
       "    <tr>\n",
       "      <th>2</th>\n",
       "      <td>Angola</td>\n",
       "      <td>AGO</td>\n",
       "      <td>2010</td>\n",
       "      <td>0.062</td>\n",
       "      <td>528843.0</td>\n",
       "    </tr>\n",
       "    <tr>\n",
       "      <th>3</th>\n",
       "      <td>Anguilla</td>\n",
       "      <td>AIA</td>\n",
       "      <td>2010</td>\n",
       "      <td>0.252</td>\n",
       "      <td>NaN</td>\n",
       "    </tr>\n",
       "    <tr>\n",
       "      <th>4</th>\n",
       "      <td>Antigua and Barbuda</td>\n",
       "      <td>ATG</td>\n",
       "      <td>2010</td>\n",
       "      <td>0.660</td>\n",
       "      <td>22804.0</td>\n",
       "    </tr>\n",
       "    <tr>\n",
       "      <th>...</th>\n",
       "      <td>...</td>\n",
       "      <td>...</td>\n",
       "      <td>...</td>\n",
       "      <td>...</td>\n",
       "      <td>...</td>\n",
       "    </tr>\n",
       "    <tr>\n",
       "      <th>181</th>\n",
       "      <td>Uruguay</td>\n",
       "      <td>URY</td>\n",
       "      <td>2010</td>\n",
       "      <td>0.252</td>\n",
       "      <td>310379.0</td>\n",
       "    </tr>\n",
       "    <tr>\n",
       "      <th>182</th>\n",
       "      <td>Vanuatu</td>\n",
       "      <td>VUT</td>\n",
       "      <td>2010</td>\n",
       "      <td>0.295</td>\n",
       "      <td>25443.0</td>\n",
       "    </tr>\n",
       "    <tr>\n",
       "      <th>183</th>\n",
       "      <td>Venezuela</td>\n",
       "      <td>VEN</td>\n",
       "      <td>2010</td>\n",
       "      <td>0.252</td>\n",
       "      <td>2669998.0</td>\n",
       "    </tr>\n",
       "    <tr>\n",
       "      <th>184</th>\n",
       "      <td>Vietnam</td>\n",
       "      <td>VNM</td>\n",
       "      <td>2010</td>\n",
       "      <td>0.103</td>\n",
       "      <td>3268227.0</td>\n",
       "    </tr>\n",
       "    <tr>\n",
       "      <th>185</th>\n",
       "      <td>Yemen</td>\n",
       "      <td>YEM</td>\n",
       "      <td>2010</td>\n",
       "      <td>0.103</td>\n",
       "      <td>887497.0</td>\n",
       "    </tr>\n",
       "  </tbody>\n",
       "</table>\n",
       "<p>186 rows × 5 columns</p>\n",
       "</div>"
      ],
      "text/plain": [
       "                 Country Code  Year  Percapitaplasticwaste(kg/person/day)  \\\n",
       "0                Albania  ALB  2010                                 0.069   \n",
       "1                Algeria  DZA  2010                                 0.144   \n",
       "2                 Angola  AGO  2010                                 0.062   \n",
       "3               Anguilla  AIA  2010                                 0.252   \n",
       "4    Antigua and Barbuda  ATG  2010                                 0.660   \n",
       "..                   ...  ...   ...                                   ...   \n",
       "181              Uruguay  URY  2010                                 0.252   \n",
       "182              Vanuatu  VUT  2010                                 0.295   \n",
       "183            Venezuela  VEN  2010                                 0.252   \n",
       "184              Vietnam  VNM  2010                                 0.103   \n",
       "185                Yemen  YEM  2010                                 0.103   \n",
       "\n",
       "     Plasticwastegeneration(tonnes)  \n",
       "0                           73364.0  \n",
       "1                         1898343.0  \n",
       "2                          528843.0  \n",
       "3                               NaN  \n",
       "4                           22804.0  \n",
       "..                              ...  \n",
       "181                        310379.0  \n",
       "182                         25443.0  \n",
       "183                       2669998.0  \n",
       "184                       3268227.0  \n",
       "185                        887497.0  \n",
       "\n",
       "[186 rows x 5 columns]"
      ]
     },
     "execution_count": 81,
     "metadata": {},
     "output_type": "execute_result"
    }
   ],
   "source": [
    "allData1"
   ]
  },
  {
   "cell_type": "code",
   "execution_count": 68,
   "id": "d8438019",
   "metadata": {},
   "outputs": [
    {
     "data": {
      "text/plain": [
       "Index(['Country', 'Code', 'Year', 'Plasticwastegeneration(tonnes)'], dtype='object')"
      ]
     },
     "execution_count": 68,
     "metadata": {},
     "output_type": "execute_result"
    }
   ],
   "source": [
    "dfExcelTotal.columns"
   ]
  },
  {
   "cell_type": "code",
   "execution_count": 69,
   "id": "3cc297de",
   "metadata": {},
   "outputs": [
    {
     "data": {
      "text/plain": [
       "Index(['Country', 'Code', 'Year', 'Percapitaplasticwaste(kg/person/day)'], dtype='object')"
      ]
     },
     "execution_count": 69,
     "metadata": {},
     "output_type": "execute_result"
    }
   ],
   "source": [
    "dfExcelCapita.columns"
   ]
  },
  {
   "cell_type": "code",
   "execution_count": 70,
   "id": "5d7245c6",
   "metadata": {},
   "outputs": [
    {
     "data": {
      "text/plain": [
       "Index(['Country', 'Code', 'Year', 'Mismanagedwaste(percent)'], dtype='object')"
      ]
     },
     "execution_count": 70,
     "metadata": {},
     "output_type": "execute_result"
    }
   ],
   "source": [
    "dfExcelMismanaged.columns"
   ]
  },
  {
   "cell_type": "code",
   "execution_count": 71,
   "id": "53bf78b0",
   "metadata": {},
   "outputs": [
    {
     "data": {
      "text/plain": [
       "Index(['Country', 'Code', 'Year', 'Mismanagedwaste2025(percent)'], dtype='object')"
      ]
     },
     "execution_count": 71,
     "metadata": {},
     "output_type": "execute_result"
    }
   ],
   "source": [
    "dfExcelMismanagedFuture.columns"
   ]
  },
  {
   "cell_type": "code",
   "execution_count": 82,
   "id": "c65fd1b4",
   "metadata": {},
   "outputs": [],
   "source": [
    "allData2=pd.merge(allData1, dfExcelMismanaged, on=['Country', 'Code', 'Year'], how='outer')"
   ]
  },
  {
   "cell_type": "code",
   "execution_count": 84,
   "id": "762eb647",
   "metadata": {},
   "outputs": [
    {
     "data": {
      "text/html": [
       "<div>\n",
       "<style scoped>\n",
       "    .dataframe tbody tr th:only-of-type {\n",
       "        vertical-align: middle;\n",
       "    }\n",
       "\n",
       "    .dataframe tbody tr th {\n",
       "        vertical-align: top;\n",
       "    }\n",
       "\n",
       "    .dataframe thead th {\n",
       "        text-align: right;\n",
       "    }\n",
       "</style>\n",
       "<table border=\"1\" class=\"dataframe\">\n",
       "  <thead>\n",
       "    <tr style=\"text-align: right;\">\n",
       "      <th></th>\n",
       "      <th>Country</th>\n",
       "      <th>Code</th>\n",
       "      <th>Year</th>\n",
       "      <th>Percapitaplasticwaste(kg/person/day)</th>\n",
       "      <th>Plasticwastegeneration(tonnes)</th>\n",
       "      <th>Mismanagedwaste(percent)</th>\n",
       "    </tr>\n",
       "  </thead>\n",
       "  <tbody>\n",
       "    <tr>\n",
       "      <th>0</th>\n",
       "      <td>Albania</td>\n",
       "      <td>ALB</td>\n",
       "      <td>2010</td>\n",
       "      <td>0.069</td>\n",
       "      <td>73364.0</td>\n",
       "      <td>0.0933</td>\n",
       "    </tr>\n",
       "    <tr>\n",
       "      <th>1</th>\n",
       "      <td>Algeria</td>\n",
       "      <td>DZA</td>\n",
       "      <td>2010</td>\n",
       "      <td>0.144</td>\n",
       "      <td>1898343.0</td>\n",
       "      <td>1.6347</td>\n",
       "    </tr>\n",
       "    <tr>\n",
       "      <th>2</th>\n",
       "      <td>Angola</td>\n",
       "      <td>AGO</td>\n",
       "      <td>2010</td>\n",
       "      <td>0.062</td>\n",
       "      <td>528843.0</td>\n",
       "      <td>0.1964</td>\n",
       "    </tr>\n",
       "    <tr>\n",
       "      <th>3</th>\n",
       "      <td>Anguilla</td>\n",
       "      <td>AIA</td>\n",
       "      <td>2010</td>\n",
       "      <td>0.252</td>\n",
       "      <td>NaN</td>\n",
       "      <td>0.0002</td>\n",
       "    </tr>\n",
       "    <tr>\n",
       "      <th>4</th>\n",
       "      <td>Antigua and Barbuda</td>\n",
       "      <td>ATG</td>\n",
       "      <td>2010</td>\n",
       "      <td>0.660</td>\n",
       "      <td>22804.0</td>\n",
       "      <td>0.0039</td>\n",
       "    </tr>\n",
       "    <tr>\n",
       "      <th>...</th>\n",
       "      <td>...</td>\n",
       "      <td>...</td>\n",
       "      <td>...</td>\n",
       "      <td>...</td>\n",
       "      <td>...</td>\n",
       "      <td>...</td>\n",
       "    </tr>\n",
       "    <tr>\n",
       "      <th>181</th>\n",
       "      <td>Uruguay</td>\n",
       "      <td>URY</td>\n",
       "      <td>2010</td>\n",
       "      <td>0.252</td>\n",
       "      <td>310379.0</td>\n",
       "      <td>0.0677</td>\n",
       "    </tr>\n",
       "    <tr>\n",
       "      <th>182</th>\n",
       "      <td>Vanuatu</td>\n",
       "      <td>VUT</td>\n",
       "      <td>2010</td>\n",
       "      <td>0.295</td>\n",
       "      <td>25443.0</td>\n",
       "      <td>0.0706</td>\n",
       "    </tr>\n",
       "    <tr>\n",
       "      <th>183</th>\n",
       "      <td>Venezuela</td>\n",
       "      <td>VEN</td>\n",
       "      <td>2010</td>\n",
       "      <td>0.252</td>\n",
       "      <td>2669998.0</td>\n",
       "      <td>0.3214</td>\n",
       "    </tr>\n",
       "    <tr>\n",
       "      <th>184</th>\n",
       "      <td>Vietnam</td>\n",
       "      <td>VNM</td>\n",
       "      <td>2010</td>\n",
       "      <td>0.103</td>\n",
       "      <td>3268227.0</td>\n",
       "      <td>5.7588</td>\n",
       "    </tr>\n",
       "    <tr>\n",
       "      <th>185</th>\n",
       "      <td>Yemen</td>\n",
       "      <td>YEM</td>\n",
       "      <td>2010</td>\n",
       "      <td>0.103</td>\n",
       "      <td>887497.0</td>\n",
       "      <td>0.5310</td>\n",
       "    </tr>\n",
       "  </tbody>\n",
       "</table>\n",
       "<p>186 rows × 6 columns</p>\n",
       "</div>"
      ],
      "text/plain": [
       "                 Country Code  Year  Percapitaplasticwaste(kg/person/day)  \\\n",
       "0                Albania  ALB  2010                                 0.069   \n",
       "1                Algeria  DZA  2010                                 0.144   \n",
       "2                 Angola  AGO  2010                                 0.062   \n",
       "3               Anguilla  AIA  2010                                 0.252   \n",
       "4    Antigua and Barbuda  ATG  2010                                 0.660   \n",
       "..                   ...  ...   ...                                   ...   \n",
       "181              Uruguay  URY  2010                                 0.252   \n",
       "182              Vanuatu  VUT  2010                                 0.295   \n",
       "183            Venezuela  VEN  2010                                 0.252   \n",
       "184              Vietnam  VNM  2010                                 0.103   \n",
       "185                Yemen  YEM  2010                                 0.103   \n",
       "\n",
       "     Plasticwastegeneration(tonnes)  Mismanagedwaste(percent)  \n",
       "0                           73364.0                    0.0933  \n",
       "1                         1898343.0                    1.6347  \n",
       "2                          528843.0                    0.1964  \n",
       "3                               NaN                    0.0002  \n",
       "4                           22804.0                    0.0039  \n",
       "..                              ...                       ...  \n",
       "181                        310379.0                    0.0677  \n",
       "182                         25443.0                    0.0706  \n",
       "183                       2669998.0                    0.3214  \n",
       "184                       3268227.0                    5.7588  \n",
       "185                        887497.0                    0.5310  \n",
       "\n",
       "[186 rows x 6 columns]"
      ]
     },
     "execution_count": 84,
     "metadata": {},
     "output_type": "execute_result"
    }
   ],
   "source": [
    "allData2"
   ]
  },
  {
   "cell_type": "code",
   "execution_count": 85,
   "id": "af8c72e9",
   "metadata": {},
   "outputs": [],
   "source": [
    "allData3=pd.merge(allData2, dfExcelMismanagedFuture, on=['Country', 'Code', 'Year'], how='outer')"
   ]
  },
  {
   "cell_type": "code",
   "execution_count": 86,
   "id": "cb8de4a6",
   "metadata": {},
   "outputs": [
    {
     "data": {
      "text/html": [
       "<div>\n",
       "<style scoped>\n",
       "    .dataframe tbody tr th:only-of-type {\n",
       "        vertical-align: middle;\n",
       "    }\n",
       "\n",
       "    .dataframe tbody tr th {\n",
       "        vertical-align: top;\n",
       "    }\n",
       "\n",
       "    .dataframe thead th {\n",
       "        text-align: right;\n",
       "    }\n",
       "</style>\n",
       "<table border=\"1\" class=\"dataframe\">\n",
       "  <thead>\n",
       "    <tr style=\"text-align: right;\">\n",
       "      <th></th>\n",
       "      <th>Country</th>\n",
       "      <th>Code</th>\n",
       "      <th>Year</th>\n",
       "      <th>Percapitaplasticwaste(kg/person/day)</th>\n",
       "      <th>Plasticwastegeneration(tonnes)</th>\n",
       "      <th>Mismanagedwaste(percent)</th>\n",
       "      <th>Mismanagedwaste2025(percent)</th>\n",
       "    </tr>\n",
       "  </thead>\n",
       "  <tbody>\n",
       "    <tr>\n",
       "      <th>0</th>\n",
       "      <td>Albania</td>\n",
       "      <td>ALB</td>\n",
       "      <td>2010</td>\n",
       "      <td>0.069</td>\n",
       "      <td>73364.0</td>\n",
       "      <td>0.0933</td>\n",
       "      <td>0.0913</td>\n",
       "    </tr>\n",
       "    <tr>\n",
       "      <th>1</th>\n",
       "      <td>Algeria</td>\n",
       "      <td>DZA</td>\n",
       "      <td>2010</td>\n",
       "      <td>0.144</td>\n",
       "      <td>1898343.0</td>\n",
       "      <td>1.6347</td>\n",
       "      <td>1.4729</td>\n",
       "    </tr>\n",
       "    <tr>\n",
       "      <th>2</th>\n",
       "      <td>Angola</td>\n",
       "      <td>AGO</td>\n",
       "      <td>2010</td>\n",
       "      <td>0.062</td>\n",
       "      <td>528843.0</td>\n",
       "      <td>0.1964</td>\n",
       "      <td>0.1980</td>\n",
       "    </tr>\n",
       "    <tr>\n",
       "      <th>3</th>\n",
       "      <td>Anguilla</td>\n",
       "      <td>AIA</td>\n",
       "      <td>2010</td>\n",
       "      <td>0.252</td>\n",
       "      <td>NaN</td>\n",
       "      <td>0.0002</td>\n",
       "      <td>0.0001</td>\n",
       "    </tr>\n",
       "    <tr>\n",
       "      <th>4</th>\n",
       "      <td>Antigua and Barbuda</td>\n",
       "      <td>ATG</td>\n",
       "      <td>2010</td>\n",
       "      <td>0.660</td>\n",
       "      <td>22804.0</td>\n",
       "      <td>0.0039</td>\n",
       "      <td>0.0020</td>\n",
       "    </tr>\n",
       "    <tr>\n",
       "      <th>...</th>\n",
       "      <td>...</td>\n",
       "      <td>...</td>\n",
       "      <td>...</td>\n",
       "      <td>...</td>\n",
       "      <td>...</td>\n",
       "      <td>...</td>\n",
       "      <td>...</td>\n",
       "    </tr>\n",
       "    <tr>\n",
       "      <th>181</th>\n",
       "      <td>Uruguay</td>\n",
       "      <td>URY</td>\n",
       "      <td>2010</td>\n",
       "      <td>0.252</td>\n",
       "      <td>310379.0</td>\n",
       "      <td>0.0677</td>\n",
       "      <td>0.0116</td>\n",
       "    </tr>\n",
       "    <tr>\n",
       "      <th>182</th>\n",
       "      <td>Vanuatu</td>\n",
       "      <td>VUT</td>\n",
       "      <td>2010</td>\n",
       "      <td>0.295</td>\n",
       "      <td>25443.0</td>\n",
       "      <td>0.0706</td>\n",
       "      <td>0.0550</td>\n",
       "    </tr>\n",
       "    <tr>\n",
       "      <th>183</th>\n",
       "      <td>Venezuela</td>\n",
       "      <td>VEN</td>\n",
       "      <td>2010</td>\n",
       "      <td>0.252</td>\n",
       "      <td>2669998.0</td>\n",
       "      <td>0.3214</td>\n",
       "      <td>0.2233</td>\n",
       "    </tr>\n",
       "    <tr>\n",
       "      <th>184</th>\n",
       "      <td>Vietnam</td>\n",
       "      <td>VNM</td>\n",
       "      <td>2010</td>\n",
       "      <td>0.103</td>\n",
       "      <td>3268227.0</td>\n",
       "      <td>5.7588</td>\n",
       "      <td>6.0407</td>\n",
       "    </tr>\n",
       "    <tr>\n",
       "      <th>185</th>\n",
       "      <td>Yemen</td>\n",
       "      <td>YEM</td>\n",
       "      <td>2010</td>\n",
       "      <td>0.103</td>\n",
       "      <td>887497.0</td>\n",
       "      <td>0.5310</td>\n",
       "      <td>0.7440</td>\n",
       "    </tr>\n",
       "  </tbody>\n",
       "</table>\n",
       "<p>186 rows × 7 columns</p>\n",
       "</div>"
      ],
      "text/plain": [
       "                 Country Code  Year  Percapitaplasticwaste(kg/person/day)  \\\n",
       "0                Albania  ALB  2010                                 0.069   \n",
       "1                Algeria  DZA  2010                                 0.144   \n",
       "2                 Angola  AGO  2010                                 0.062   \n",
       "3               Anguilla  AIA  2010                                 0.252   \n",
       "4    Antigua and Barbuda  ATG  2010                                 0.660   \n",
       "..                   ...  ...   ...                                   ...   \n",
       "181              Uruguay  URY  2010                                 0.252   \n",
       "182              Vanuatu  VUT  2010                                 0.295   \n",
       "183            Venezuela  VEN  2010                                 0.252   \n",
       "184              Vietnam  VNM  2010                                 0.103   \n",
       "185                Yemen  YEM  2010                                 0.103   \n",
       "\n",
       "     Plasticwastegeneration(tonnes)  Mismanagedwaste(percent)  \\\n",
       "0                           73364.0                    0.0933   \n",
       "1                         1898343.0                    1.6347   \n",
       "2                          528843.0                    0.1964   \n",
       "3                               NaN                    0.0002   \n",
       "4                           22804.0                    0.0039   \n",
       "..                              ...                       ...   \n",
       "181                        310379.0                    0.0677   \n",
       "182                         25443.0                    0.0706   \n",
       "183                       2669998.0                    0.3214   \n",
       "184                       3268227.0                    5.7588   \n",
       "185                        887497.0                    0.5310   \n",
       "\n",
       "     Mismanagedwaste2025(percent)  \n",
       "0                          0.0913  \n",
       "1                          1.4729  \n",
       "2                          0.1980  \n",
       "3                          0.0001  \n",
       "4                          0.0020  \n",
       "..                            ...  \n",
       "181                        0.0116  \n",
       "182                        0.0550  \n",
       "183                        0.2233  \n",
       "184                        6.0407  \n",
       "185                        0.7440  \n",
       "\n",
       "[186 rows x 7 columns]"
      ]
     },
     "execution_count": 86,
     "metadata": {},
     "output_type": "execute_result"
    }
   ],
   "source": [
    "allData3"
   ]
  },
  {
   "cell_type": "code",
   "execution_count": 88,
   "id": "b5c68c17",
   "metadata": {},
   "outputs": [],
   "source": [
    "allData4=allData3.merge(countryDemo1,left_on=\"Country\", right_on=\"Country\",how='outer', indicator='True')"
   ]
  },
  {
   "cell_type": "code",
   "execution_count": 89,
   "id": "9d93d06f",
   "metadata": {},
   "outputs": [
    {
     "data": {
      "text/plain": [
       "both          162\n",
       "right_only     54\n",
       "left_only      24\n",
       "Name: True, dtype: int64"
      ]
     },
     "execution_count": 89,
     "metadata": {},
     "output_type": "execute_result"
    }
   ],
   "source": [
    "# explore matched and unmatched counts:\n",
    "allData4['True'].value_counts()"
   ]
  },
  {
   "cell_type": "code",
   "execution_count": 95,
   "id": "af01a774",
   "metadata": {},
   "outputs": [
    {
     "data": {
      "text/plain": [
       "26                  Channel Islands\n",
       "29                 Christmas Island\n",
       "30                    Cocos Islands\n",
       "36                    Cote d'Ivoire\n",
       "39                          Curacao\n",
       "41     Democratic Republic of Congo\n",
       "52                   Faeroe Islands\n",
       "53                 Falkland Islands\n",
       "57                    French Guiana\n",
       "64                        Gibraltar\n",
       "68                       Guadeloupe\n",
       "71                         Guernsey\n",
       "97                            Macao\n",
       "103                      Martinique\n",
       "107            Micronesia (country)\n",
       "117            Netherlands Antilles\n",
       "122                            Niue\n",
       "123                  Norfolk Island\n",
       "139                         Reunion\n",
       "142                    Saint Helena\n",
       "145       Saint Pierre and Miquelon\n",
       "148           Sao Tome and Principe\n",
       "154       Sint Maarten (Dutch part)\n",
       "170                         Tokelau\n",
       "Name: Country, dtype: object"
      ]
     },
     "execution_count": 95,
     "metadata": {},
     "output_type": "execute_result"
    }
   ],
   "source": [
    "allData4[allData4['True']=='left_only'].Country"
   ]
  },
  {
   "cell_type": "code",
   "execution_count": 96,
   "id": "09962d86",
   "metadata": {},
   "outputs": [
    {
     "data": {
      "text/plain": [
       "186                 Switzerland\n",
       "187                     Austria\n",
       "188              Czech Republic\n",
       "189                  Kazakhstan\n",
       "190                     Hungary\n",
       "191                    Slovakia\n",
       "192                    Ethiopia\n",
       "193                  Luxembourg\n",
       "194                 Ivory Coast\n",
       "195                     Belarus\n",
       "196                  Uzbekistan\n",
       "197                      Serbia\n",
       "198                    DR Congo\n",
       "199                Turkmenistan\n",
       "200                  Azerbaijan\n",
       "201                      Uganda\n",
       "202                     Bolivia\n",
       "203                    Paraguay\n",
       "204                       Nepal\n",
       "205                       Macau\n",
       "206                    Zimbabwe\n",
       "207                      Zambia\n",
       "208                 Afghanistan\n",
       "209                Burkina Faso\n",
       "210                        Mali\n",
       "211                        Laos\n",
       "212                    Botswana\n",
       "213                       Niger\n",
       "214                    Mongolia\n",
       "215             North Macedonia\n",
       "216                     Armenia\n",
       "217                     Moldova\n",
       "218                        Chad\n",
       "219                      Malawi\n",
       "220                      Rwanda\n",
       "221                      Kosovo\n",
       "222                  Kyrgyzstan\n",
       "223                  Tajikistan\n",
       "224               Liechtenstein\n",
       "225                    Eswatini\n",
       "226                 South Sudan\n",
       "227                     Andorra\n",
       "228                     Burundi\n",
       "229                     Curaçao\n",
       "230    Central African Republic\n",
       "231                      Bhutan\n",
       "232                     Lesotho\n",
       "233                  San Marino\n",
       "234                    Zanzibar\n",
       "235                  East Timor\n",
       "236                Sint Maarten\n",
       "237              American Samoa\n",
       "238       São Tomé and Príncipe\n",
       "239                  Micronesia\n",
       "Name: Country, dtype: object"
      ]
     },
     "execution_count": 96,
     "metadata": {},
     "output_type": "execute_result"
    }
   ],
   "source": [
    "allData4[allData4['True']=='right_only'].Country"
   ]
  },
  {
   "cell_type": "code",
   "execution_count": 97,
   "id": "c624e822",
   "metadata": {},
   "outputs": [],
   "source": [
    "# The countries unmatched\n",
    "UnmatchedLeft=allData4[allData4['True']=='left_only'].Country.to_list()\n",
    "UnmatchedRight=allData4[allData4['True']=='right_only'].Country.to_list()"
   ]
  },
  {
   "cell_type": "code",
   "execution_count": 99,
   "id": "e237131e",
   "metadata": {},
   "outputs": [
    {
     "data": {
      "text/plain": [
       "'Channel Islands'"
      ]
     },
     "execution_count": 99,
     "metadata": {},
     "output_type": "execute_result"
    }
   ],
   "source": [
    "UnmatchedLeft[0]"
   ]
  },
  {
   "cell_type": "code",
   "execution_count": 102,
   "id": "d4b80ca2",
   "metadata": {},
   "outputs": [
    {
     "name": "stdout",
     "output_type": "stream",
     "text": [
      "Collecting thefuzz\n",
      "  Downloading thefuzz-0.19.0-py2.py3-none-any.whl (17 kB)\n",
      "Installing collected packages: thefuzz\n",
      "Successfully installed thefuzz-0.19.0\n"
     ]
    }
   ],
   "source": [
    "# The first tool we need is another library allows fuzzy merging: TheFuzz.\n",
    "# The library has two functions of interest:extractOne and extract.\n",
    "# install the fuzz\n",
    "!pip install thefuzz"
   ]
  },
  {
   "cell_type": "code",
   "execution_count": 103,
   "id": "571617d7",
   "metadata": {},
   "outputs": [
    {
     "name": "stderr",
     "output_type": "stream",
     "text": [
      "D:\\Software2\\Anaconda3\\Anaconda\\lib\\site-packages\\thefuzz\\fuzz.py:11: UserWarning: Using slow pure-python SequenceMatcher. Install python-Levenshtein to remove this warning\n",
      "  warnings.warn('Using slow pure-python SequenceMatcher. Install python-Levenshtein to remove this warning')\n"
     ]
    },
    {
     "data": {
      "text/plain": [
       "('Chad', 68)"
      ]
     },
     "execution_count": 103,
     "metadata": {},
     "output_type": "execute_result"
    }
   ],
   "source": [
    "from thefuzz import process\n",
    "process.extractOne(UnmatchedLeft[0], UnmatchedRight)"
   ]
  },
  {
   "cell_type": "code",
   "execution_count": 104,
   "id": "07e45df0",
   "metadata": {},
   "outputs": [
    {
     "data": {
      "text/plain": [
       "[('Chad', 68), ('Nepal', 54), ('Afghanistan', 54)]"
      ]
     },
     "execution_count": 104,
     "metadata": {},
     "output_type": "execute_result"
    }
   ],
   "source": [
    "#  find the three best matches from the country data\n",
    "process.extract(UnmatchedLeft[0], UnmatchedRight,limit=3)"
   ]
  },
  {
   "cell_type": "code",
   "execution_count": 105,
   "id": "bf3a5f31",
   "metadata": {},
   "outputs": [],
   "source": [
    "# so no matching"
   ]
  },
  {
   "cell_type": "code",
   "execution_count": 106,
   "id": "d5a1324e",
   "metadata": {},
   "outputs": [
    {
     "data": {
      "text/plain": [
       "[('Channel Islands', ('Chad', 68)),\n",
       " ('Christmas Island', ('Tajikistan', 54)),\n",
       " ('Cocos Islands', ('Switzerland', 50)),\n",
       " (\"Cote d'Ivoire\", ('Ivory Coast', 64)),\n",
       " ('Curacao', ('Curaçao', 92)),\n",
       " ('Democratic Republic of Congo', ('Czech Republic', 86)),\n",
       " ('Faeroe Islands', ('San Marino', 55)),\n",
       " ('Falkland Islands', ('Afghanistan', 52)),\n",
       " ('French Guiana', ('Uganda', 66)),\n",
       " ('Gibraltar', ('Belarus', 50)),\n",
       " ('Guadeloupe', ('Uganda', 45)),\n",
       " ('Guernsey', ('Niger', 54)),\n",
       " ('Macao', ('Macau', 80)),\n",
       " ('Martinique', ('Eswatini', 56)),\n",
       " ('Micronesia (country)', ('Micronesia', 90)),\n",
       " ('Netherlands Antilles', ('Uganda', 60)),\n",
       " ('Niue', ('Niger', 67)),\n",
       " ('Norfolk Island', ('Andorra', 61)),\n",
       " ('Reunion', ('Armenia', 57)),\n",
       " ('Saint Helena', ('Sint Maarten', 58)),\n",
       " ('Saint Pierre and Miquelon', ('Eswatini', 57)),\n",
       " ('Sao Tome and Principe', ('São Tomé and Príncipe', 92)),\n",
       " ('Sint Maarten (Dutch part)', ('Sint Maarten', 90)),\n",
       " ('Tokelau', ('Belarus', 57))]"
      ]
     },
     "execution_count": 106,
     "metadata": {},
     "output_type": "execute_result"
    }
   ],
   "source": [
    "[(left, process.extractOne(left, UnmatchedRight)) for left in sorted(UnmatchedLeft)]"
   ]
  },
  {
   "cell_type": "code",
   "execution_count": 110,
   "id": "f24fb40c",
   "metadata": {},
   "outputs": [],
   "source": [
    "# These are totally wrong matches\n",
    "# this is a list of tuples:\n",
    "TotallyWrong=[('Channel Islands', ('Chad', 68)),\n",
    "              ('Christmas Island', ('Tajikistan', 54)),\n",
    "              ('Cocos Islands', ('Switzerland', 50)),\n",
    "              ('Democratic Republic of Congo', ('Czech Republic', 86)),\n",
    "              ('Faeroe Islands', ('San Marino', 55)),\n",
    "              ('Falkland Islands', ('Afghanistan', 52)),\n",
    "              ('French Guiana', ('Uganda', 66)),\n",
    "              ('Gibraltar', ('Belarus', 50)),\n",
    "              ('Guadeloupe', ('Uganda', 45)),\n",
    "              ('Guernsey', ('Niger', 54)),\n",
    "              ('Martinique', ('Eswatini', 56)),\n",
    "              ('Micronesia (country)', ('Micronesia', 90)),\n",
    "              ('Netherlands Antilles', ('Uganda', 60)),\n",
    "              ('Niue', ('Niger', 67)),\n",
    "              ('Norfolk Island', ('Andorra', 61)),\n",
    "              ('Reunion', ('Armenia', 57)),\n",
    "              ('Saint Helena', ('Sint Maarten', 58)),\n",
    "              ('Saint Pierre and Miquelon', ('Eswatini', 57)),\n",
    "              ('Tokelau', ('Belarus', 57))]\n",
    "              "
   ]
  },
  {
   "cell_type": "code",
   "execution_count": 111,
   "id": "dfdaffd2",
   "metadata": {},
   "outputs": [
    {
     "data": {
      "text/plain": [
       "['Channel Islands',\n",
       " 'Christmas Island',\n",
       " 'Cocos Islands',\n",
       " 'Democratic Republic of Congo',\n",
       " 'Faeroe Islands',\n",
       " 'Falkland Islands',\n",
       " 'French Guiana',\n",
       " 'Gibraltar',\n",
       " 'Guadeloupe',\n",
       " 'Guernsey',\n",
       " 'Martinique',\n",
       " 'Micronesia (country)',\n",
       " 'Netherlands Antilles',\n",
       " 'Niue',\n",
       " 'Norfolk Island',\n",
       " 'Reunion',\n",
       " 'Saint Helena',\n",
       " 'Saint Pierre and Miquelon',\n",
       " 'Tokelau']"
      ]
     },
     "execution_count": 111,
     "metadata": {},
     "output_type": "execute_result"
    }
   ],
   "source": [
    "omitLeft=[leftName for (leftName,rightFuzzy) in TotallyWrong] #parenthesis not needed\n",
    "omitLeft"
   ]
  },
  {
   "cell_type": "code",
   "execution_count": 112,
   "id": "d51c0632",
   "metadata": {},
   "outputs": [
    {
     "data": {
      "text/plain": [
       "{'Ivory Coast': \"Cote d'Ivoire\",\n",
       " 'Curaçao': 'Curacao',\n",
       " 'Macau': 'Macao',\n",
       " 'São Tomé and Príncipe': 'Sao Tome and Principe',\n",
       " 'Sint Maarten': 'Sint Maarten (Dutch part)'}"
      ]
     },
     "execution_count": 112,
     "metadata": {},
     "output_type": "execute_result"
    }
   ],
   "source": [
    "# process.extractOne(left, UnmatchedRight)[0] IS JUST THE COUNTRY NAME TO THE RIGHT\n",
    "# [0] just took first element in tuple.\n",
    "\n",
    "# left for left in UnmatchedLeft IS JUST EVERY COUNTRY NAME TO THE LEFT\n",
    "\n",
    "# if left not in omitLeft IS A CONDITION\n",
    "\n",
    "{process.extractOne(left, UnmatchedRight)[0]:left for left in UnmatchedLeft if left not in omitLeft}"
   ]
  },
  {
   "cell_type": "code",
   "execution_count": 116,
   "id": "f2da4358",
   "metadata": {},
   "outputs": [],
   "source": [
    "# save the dict above and use it to replace\n",
    "changesRight={process.extractOne(left, UnmatchedRight)[0]:left for left in UnmatchedLeft if left not in omitLeft}\n",
    "countryDemo1.Country.replace(changesRight,inplace=True)"
   ]
  },
  {
   "cell_type": "code",
   "execution_count": null,
   "id": "07dd30e2",
   "metadata": {},
   "outputs": [],
   "source": [
    "# Then redo the merging with full coincidences (option 1):"
   ]
  },
  {
   "cell_type": "code",
   "execution_count": 115,
   "id": "6c447b68",
   "metadata": {},
   "outputs": [
    {
     "data": {
      "text/html": [
       "<div>\n",
       "<style scoped>\n",
       "    .dataframe tbody tr th:only-of-type {\n",
       "        vertical-align: middle;\n",
       "    }\n",
       "\n",
       "    .dataframe tbody tr th {\n",
       "        vertical-align: top;\n",
       "    }\n",
       "\n",
       "    .dataframe thead th {\n",
       "        text-align: right;\n",
       "    }\n",
       "</style>\n",
       "<table border=\"1\" class=\"dataframe\">\n",
       "  <thead>\n",
       "    <tr style=\"text-align: right;\">\n",
       "      <th></th>\n",
       "      <th>Country</th>\n",
       "      <th>Subregion</th>\n",
       "      <th>Region</th>\n",
       "    </tr>\n",
       "  </thead>\n",
       "  <tbody>\n",
       "    <tr>\n",
       "      <th>0</th>\n",
       "      <td>United States</td>\n",
       "      <td>Northern America</td>\n",
       "      <td>Americas</td>\n",
       "    </tr>\n",
       "    <tr>\n",
       "      <th>1</th>\n",
       "      <td>China</td>\n",
       "      <td>Eastern Asia</td>\n",
       "      <td>Asia</td>\n",
       "    </tr>\n",
       "    <tr>\n",
       "      <th>2</th>\n",
       "      <td>Japan</td>\n",
       "      <td>Eastern Asia</td>\n",
       "      <td>Asia</td>\n",
       "    </tr>\n",
       "    <tr>\n",
       "      <th>3</th>\n",
       "      <td>Germany</td>\n",
       "      <td>Western Europe</td>\n",
       "      <td>Europe</td>\n",
       "    </tr>\n",
       "    <tr>\n",
       "      <th>4</th>\n",
       "      <td>United Kingdom</td>\n",
       "      <td>Northern Europe</td>\n",
       "      <td>Europe</td>\n",
       "    </tr>\n",
       "    <tr>\n",
       "      <th>...</th>\n",
       "      <td>...</td>\n",
       "      <td>...</td>\n",
       "      <td>...</td>\n",
       "    </tr>\n",
       "    <tr>\n",
       "      <th>211</th>\n",
       "      <td>Kiribati</td>\n",
       "      <td>Micronesia</td>\n",
       "      <td>Oceania</td>\n",
       "    </tr>\n",
       "    <tr>\n",
       "      <th>212</th>\n",
       "      <td>Palau</td>\n",
       "      <td>Micronesia</td>\n",
       "      <td>Oceania</td>\n",
       "    </tr>\n",
       "    <tr>\n",
       "      <th>213</th>\n",
       "      <td>Nauru</td>\n",
       "      <td>Micronesia</td>\n",
       "      <td>Oceania</td>\n",
       "    </tr>\n",
       "    <tr>\n",
       "      <th>214</th>\n",
       "      <td>Montserrat</td>\n",
       "      <td>Caribbean</td>\n",
       "      <td>Americas</td>\n",
       "    </tr>\n",
       "    <tr>\n",
       "      <th>215</th>\n",
       "      <td>Tuvalu</td>\n",
       "      <td>Polynesia</td>\n",
       "      <td>Oceania</td>\n",
       "    </tr>\n",
       "  </tbody>\n",
       "</table>\n",
       "<p>216 rows × 3 columns</p>\n",
       "</div>"
      ],
      "text/plain": [
       "            Country         Subregion    Region\n",
       "0     United States  Northern America  Americas\n",
       "1             China      Eastern Asia      Asia\n",
       "2             Japan      Eastern Asia      Asia\n",
       "3           Germany    Western Europe    Europe\n",
       "4    United Kingdom   Northern Europe    Europe\n",
       "..              ...               ...       ...\n",
       "211        Kiribati        Micronesia   Oceania\n",
       "212           Palau        Micronesia   Oceania\n",
       "213           Nauru        Micronesia   Oceania\n",
       "214      Montserrat         Caribbean  Americas\n",
       "215          Tuvalu         Polynesia   Oceania\n",
       "\n",
       "[216 rows x 3 columns]"
      ]
     },
     "execution_count": 115,
     "metadata": {},
     "output_type": "execute_result"
    }
   ],
   "source": [
    "countryDemo1"
   ]
  },
  {
   "cell_type": "code",
   "execution_count": 120,
   "id": "8d980ac5",
   "metadata": {},
   "outputs": [
    {
     "data": {
      "text/plain": [
       "(167, 9)"
      ]
     },
     "execution_count": 120,
     "metadata": {},
     "output_type": "execute_result"
    }
   ],
   "source": [
    "# redoing merge\n",
    "allData=allData3.merge(countryDemo1,left_on=\"Country\",right_on=\"Country\")\n",
    "\n",
    "# current dimension\n",
    "allData.shape"
   ]
  },
  {
   "cell_type": "code",
   "execution_count": 118,
   "id": "3c40a080",
   "metadata": {},
   "outputs": [
    {
     "data": {
      "text/plain": [
       "(240, 10)"
      ]
     },
     "execution_count": 118,
     "metadata": {},
     "output_type": "execute_result"
    }
   ],
   "source": [
    "allData4.shape"
   ]
  },
  {
   "cell_type": "code",
   "execution_count": 121,
   "id": "b56705a7",
   "metadata": {},
   "outputs": [
    {
     "data": {
      "text/html": [
       "<div>\n",
       "<style scoped>\n",
       "    .dataframe tbody tr th:only-of-type {\n",
       "        vertical-align: middle;\n",
       "    }\n",
       "\n",
       "    .dataframe tbody tr th {\n",
       "        vertical-align: top;\n",
       "    }\n",
       "\n",
       "    .dataframe thead th {\n",
       "        text-align: right;\n",
       "    }\n",
       "</style>\n",
       "<table border=\"1\" class=\"dataframe\">\n",
       "  <thead>\n",
       "    <tr style=\"text-align: right;\">\n",
       "      <th></th>\n",
       "      <th>Country</th>\n",
       "      <th>Code</th>\n",
       "      <th>Year</th>\n",
       "      <th>Percapitaplasticwaste(kg/person/day)</th>\n",
       "      <th>Plasticwastegeneration(tonnes)</th>\n",
       "      <th>Mismanagedwaste(percent)</th>\n",
       "      <th>Mismanagedwaste2025(percent)</th>\n",
       "      <th>Subregion</th>\n",
       "      <th>Region</th>\n",
       "    </tr>\n",
       "  </thead>\n",
       "  <tbody>\n",
       "    <tr>\n",
       "      <th>0</th>\n",
       "      <td>Albania</td>\n",
       "      <td>ALB</td>\n",
       "      <td>2010</td>\n",
       "      <td>0.069</td>\n",
       "      <td>73364.0</td>\n",
       "      <td>0.0933</td>\n",
       "      <td>0.0913</td>\n",
       "      <td>Southern Europe</td>\n",
       "      <td>Europe</td>\n",
       "    </tr>\n",
       "    <tr>\n",
       "      <th>1</th>\n",
       "      <td>Algeria</td>\n",
       "      <td>DZA</td>\n",
       "      <td>2010</td>\n",
       "      <td>0.144</td>\n",
       "      <td>1898343.0</td>\n",
       "      <td>1.6347</td>\n",
       "      <td>1.4729</td>\n",
       "      <td>Northern Africa</td>\n",
       "      <td>Africa</td>\n",
       "    </tr>\n",
       "    <tr>\n",
       "      <th>2</th>\n",
       "      <td>Angola</td>\n",
       "      <td>AGO</td>\n",
       "      <td>2010</td>\n",
       "      <td>0.062</td>\n",
       "      <td>528843.0</td>\n",
       "      <td>0.1964</td>\n",
       "      <td>0.1980</td>\n",
       "      <td>Middle Africa</td>\n",
       "      <td>Africa</td>\n",
       "    </tr>\n",
       "    <tr>\n",
       "      <th>3</th>\n",
       "      <td>Anguilla</td>\n",
       "      <td>AIA</td>\n",
       "      <td>2010</td>\n",
       "      <td>0.252</td>\n",
       "      <td>NaN</td>\n",
       "      <td>0.0002</td>\n",
       "      <td>0.0001</td>\n",
       "      <td>Caribbean</td>\n",
       "      <td>Americas</td>\n",
       "    </tr>\n",
       "    <tr>\n",
       "      <th>4</th>\n",
       "      <td>Antigua and Barbuda</td>\n",
       "      <td>ATG</td>\n",
       "      <td>2010</td>\n",
       "      <td>0.660</td>\n",
       "      <td>22804.0</td>\n",
       "      <td>0.0039</td>\n",
       "      <td>0.0020</td>\n",
       "      <td>Caribbean</td>\n",
       "      <td>Americas</td>\n",
       "    </tr>\n",
       "    <tr>\n",
       "      <th>...</th>\n",
       "      <td>...</td>\n",
       "      <td>...</td>\n",
       "      <td>...</td>\n",
       "      <td>...</td>\n",
       "      <td>...</td>\n",
       "      <td>...</td>\n",
       "      <td>...</td>\n",
       "      <td>...</td>\n",
       "      <td>...</td>\n",
       "    </tr>\n",
       "    <tr>\n",
       "      <th>162</th>\n",
       "      <td>Uruguay</td>\n",
       "      <td>URY</td>\n",
       "      <td>2010</td>\n",
       "      <td>0.252</td>\n",
       "      <td>310379.0</td>\n",
       "      <td>0.0677</td>\n",
       "      <td>0.0116</td>\n",
       "      <td>South America</td>\n",
       "      <td>Americas</td>\n",
       "    </tr>\n",
       "    <tr>\n",
       "      <th>163</th>\n",
       "      <td>Vanuatu</td>\n",
       "      <td>VUT</td>\n",
       "      <td>2010</td>\n",
       "      <td>0.295</td>\n",
       "      <td>25443.0</td>\n",
       "      <td>0.0706</td>\n",
       "      <td>0.0550</td>\n",
       "      <td>Melanesia</td>\n",
       "      <td>Oceania</td>\n",
       "    </tr>\n",
       "    <tr>\n",
       "      <th>164</th>\n",
       "      <td>Venezuela</td>\n",
       "      <td>VEN</td>\n",
       "      <td>2010</td>\n",
       "      <td>0.252</td>\n",
       "      <td>2669998.0</td>\n",
       "      <td>0.3214</td>\n",
       "      <td>0.2233</td>\n",
       "      <td>South America</td>\n",
       "      <td>Americas</td>\n",
       "    </tr>\n",
       "    <tr>\n",
       "      <th>165</th>\n",
       "      <td>Vietnam</td>\n",
       "      <td>VNM</td>\n",
       "      <td>2010</td>\n",
       "      <td>0.103</td>\n",
       "      <td>3268227.0</td>\n",
       "      <td>5.7588</td>\n",
       "      <td>6.0407</td>\n",
       "      <td>South-eastern Asia</td>\n",
       "      <td>Asia</td>\n",
       "    </tr>\n",
       "    <tr>\n",
       "      <th>166</th>\n",
       "      <td>Yemen</td>\n",
       "      <td>YEM</td>\n",
       "      <td>2010</td>\n",
       "      <td>0.103</td>\n",
       "      <td>887497.0</td>\n",
       "      <td>0.5310</td>\n",
       "      <td>0.7440</td>\n",
       "      <td>Western Asia</td>\n",
       "      <td>Asia</td>\n",
       "    </tr>\n",
       "  </tbody>\n",
       "</table>\n",
       "<p>167 rows × 9 columns</p>\n",
       "</div>"
      ],
      "text/plain": [
       "                 Country Code  Year  Percapitaplasticwaste(kg/person/day)  \\\n",
       "0                Albania  ALB  2010                                 0.069   \n",
       "1                Algeria  DZA  2010                                 0.144   \n",
       "2                 Angola  AGO  2010                                 0.062   \n",
       "3               Anguilla  AIA  2010                                 0.252   \n",
       "4    Antigua and Barbuda  ATG  2010                                 0.660   \n",
       "..                   ...  ...   ...                                   ...   \n",
       "162              Uruguay  URY  2010                                 0.252   \n",
       "163              Vanuatu  VUT  2010                                 0.295   \n",
       "164            Venezuela  VEN  2010                                 0.252   \n",
       "165              Vietnam  VNM  2010                                 0.103   \n",
       "166                Yemen  YEM  2010                                 0.103   \n",
       "\n",
       "     Plasticwastegeneration(tonnes)  Mismanagedwaste(percent)  \\\n",
       "0                           73364.0                    0.0933   \n",
       "1                         1898343.0                    1.6347   \n",
       "2                          528843.0                    0.1964   \n",
       "3                               NaN                    0.0002   \n",
       "4                           22804.0                    0.0039   \n",
       "..                              ...                       ...   \n",
       "162                        310379.0                    0.0677   \n",
       "163                         25443.0                    0.0706   \n",
       "164                       2669998.0                    0.3214   \n",
       "165                       3268227.0                    5.7588   \n",
       "166                        887497.0                    0.5310   \n",
       "\n",
       "     Mismanagedwaste2025(percent)           Subregion    Region  \n",
       "0                          0.0913     Southern Europe    Europe  \n",
       "1                          1.4729     Northern Africa    Africa  \n",
       "2                          0.1980       Middle Africa    Africa  \n",
       "3                          0.0001           Caribbean  Americas  \n",
       "4                          0.0020           Caribbean  Americas  \n",
       "..                            ...                 ...       ...  \n",
       "162                        0.0116       South America  Americas  \n",
       "163                        0.0550           Melanesia   Oceania  \n",
       "164                        0.2233       South America  Americas  \n",
       "165                        6.0407  South-eastern Asia      Asia  \n",
       "166                        0.7440        Western Asia      Asia  \n",
       "\n",
       "[167 rows x 9 columns]"
      ]
     },
     "execution_count": 121,
     "metadata": {},
     "output_type": "execute_result"
    }
   ],
   "source": [
    "allData"
   ]
  },
  {
   "cell_type": "code",
   "execution_count": 123,
   "id": "94cedc96",
   "metadata": {},
   "outputs": [],
   "source": [
    "# change the order of colomns\n",
    "order=[\"Country\", \"Code\", \"Region\", \"Subregion\", \"Percapitaplasticwaste(kg/person/day)\", \"Plasticwastegeneration(tonnes)\", \"Mismanagedwaste(percent)\", \"Mismanagedwaste2025(percent)\"]\n",
    "allData=allData[order]     "
   ]
  },
  {
   "cell_type": "code",
   "execution_count": 124,
   "id": "09691dde",
   "metadata": {},
   "outputs": [
    {
     "data": {
      "text/html": [
       "<div>\n",
       "<style scoped>\n",
       "    .dataframe tbody tr th:only-of-type {\n",
       "        vertical-align: middle;\n",
       "    }\n",
       "\n",
       "    .dataframe tbody tr th {\n",
       "        vertical-align: top;\n",
       "    }\n",
       "\n",
       "    .dataframe thead th {\n",
       "        text-align: right;\n",
       "    }\n",
       "</style>\n",
       "<table border=\"1\" class=\"dataframe\">\n",
       "  <thead>\n",
       "    <tr style=\"text-align: right;\">\n",
       "      <th></th>\n",
       "      <th>Country</th>\n",
       "      <th>Code</th>\n",
       "      <th>Region</th>\n",
       "      <th>Subregion</th>\n",
       "      <th>Percapitaplasticwaste(kg/person/day)</th>\n",
       "      <th>Plasticwastegeneration(tonnes)</th>\n",
       "      <th>Mismanagedwaste(percent)</th>\n",
       "      <th>Mismanagedwaste2025(percent)</th>\n",
       "    </tr>\n",
       "  </thead>\n",
       "  <tbody>\n",
       "    <tr>\n",
       "      <th>0</th>\n",
       "      <td>Albania</td>\n",
       "      <td>ALB</td>\n",
       "      <td>Europe</td>\n",
       "      <td>Southern Europe</td>\n",
       "      <td>0.069</td>\n",
       "      <td>73364.0</td>\n",
       "      <td>0.0933</td>\n",
       "      <td>0.0913</td>\n",
       "    </tr>\n",
       "    <tr>\n",
       "      <th>1</th>\n",
       "      <td>Algeria</td>\n",
       "      <td>DZA</td>\n",
       "      <td>Africa</td>\n",
       "      <td>Northern Africa</td>\n",
       "      <td>0.144</td>\n",
       "      <td>1898343.0</td>\n",
       "      <td>1.6347</td>\n",
       "      <td>1.4729</td>\n",
       "    </tr>\n",
       "    <tr>\n",
       "      <th>2</th>\n",
       "      <td>Angola</td>\n",
       "      <td>AGO</td>\n",
       "      <td>Africa</td>\n",
       "      <td>Middle Africa</td>\n",
       "      <td>0.062</td>\n",
       "      <td>528843.0</td>\n",
       "      <td>0.1964</td>\n",
       "      <td>0.1980</td>\n",
       "    </tr>\n",
       "    <tr>\n",
       "      <th>3</th>\n",
       "      <td>Anguilla</td>\n",
       "      <td>AIA</td>\n",
       "      <td>Americas</td>\n",
       "      <td>Caribbean</td>\n",
       "      <td>0.252</td>\n",
       "      <td>NaN</td>\n",
       "      <td>0.0002</td>\n",
       "      <td>0.0001</td>\n",
       "    </tr>\n",
       "    <tr>\n",
       "      <th>4</th>\n",
       "      <td>Antigua and Barbuda</td>\n",
       "      <td>ATG</td>\n",
       "      <td>Americas</td>\n",
       "      <td>Caribbean</td>\n",
       "      <td>0.660</td>\n",
       "      <td>22804.0</td>\n",
       "      <td>0.0039</td>\n",
       "      <td>0.0020</td>\n",
       "    </tr>\n",
       "    <tr>\n",
       "      <th>...</th>\n",
       "      <td>...</td>\n",
       "      <td>...</td>\n",
       "      <td>...</td>\n",
       "      <td>...</td>\n",
       "      <td>...</td>\n",
       "      <td>...</td>\n",
       "      <td>...</td>\n",
       "      <td>...</td>\n",
       "    </tr>\n",
       "    <tr>\n",
       "      <th>162</th>\n",
       "      <td>Uruguay</td>\n",
       "      <td>URY</td>\n",
       "      <td>Americas</td>\n",
       "      <td>South America</td>\n",
       "      <td>0.252</td>\n",
       "      <td>310379.0</td>\n",
       "      <td>0.0677</td>\n",
       "      <td>0.0116</td>\n",
       "    </tr>\n",
       "    <tr>\n",
       "      <th>163</th>\n",
       "      <td>Vanuatu</td>\n",
       "      <td>VUT</td>\n",
       "      <td>Oceania</td>\n",
       "      <td>Melanesia</td>\n",
       "      <td>0.295</td>\n",
       "      <td>25443.0</td>\n",
       "      <td>0.0706</td>\n",
       "      <td>0.0550</td>\n",
       "    </tr>\n",
       "    <tr>\n",
       "      <th>164</th>\n",
       "      <td>Venezuela</td>\n",
       "      <td>VEN</td>\n",
       "      <td>Americas</td>\n",
       "      <td>South America</td>\n",
       "      <td>0.252</td>\n",
       "      <td>2669998.0</td>\n",
       "      <td>0.3214</td>\n",
       "      <td>0.2233</td>\n",
       "    </tr>\n",
       "    <tr>\n",
       "      <th>165</th>\n",
       "      <td>Vietnam</td>\n",
       "      <td>VNM</td>\n",
       "      <td>Asia</td>\n",
       "      <td>South-eastern Asia</td>\n",
       "      <td>0.103</td>\n",
       "      <td>3268227.0</td>\n",
       "      <td>5.7588</td>\n",
       "      <td>6.0407</td>\n",
       "    </tr>\n",
       "    <tr>\n",
       "      <th>166</th>\n",
       "      <td>Yemen</td>\n",
       "      <td>YEM</td>\n",
       "      <td>Asia</td>\n",
       "      <td>Western Asia</td>\n",
       "      <td>0.103</td>\n",
       "      <td>887497.0</td>\n",
       "      <td>0.5310</td>\n",
       "      <td>0.7440</td>\n",
       "    </tr>\n",
       "  </tbody>\n",
       "</table>\n",
       "<p>167 rows × 8 columns</p>\n",
       "</div>"
      ],
      "text/plain": [
       "                 Country Code    Region           Subregion  \\\n",
       "0                Albania  ALB    Europe     Southern Europe   \n",
       "1                Algeria  DZA    Africa     Northern Africa   \n",
       "2                 Angola  AGO    Africa       Middle Africa   \n",
       "3               Anguilla  AIA  Americas           Caribbean   \n",
       "4    Antigua and Barbuda  ATG  Americas           Caribbean   \n",
       "..                   ...  ...       ...                 ...   \n",
       "162              Uruguay  URY  Americas       South America   \n",
       "163              Vanuatu  VUT   Oceania           Melanesia   \n",
       "164            Venezuela  VEN  Americas       South America   \n",
       "165              Vietnam  VNM      Asia  South-eastern Asia   \n",
       "166                Yemen  YEM      Asia        Western Asia   \n",
       "\n",
       "     Percapitaplasticwaste(kg/person/day)  Plasticwastegeneration(tonnes)  \\\n",
       "0                                   0.069                         73364.0   \n",
       "1                                   0.144                       1898343.0   \n",
       "2                                   0.062                        528843.0   \n",
       "3                                   0.252                             NaN   \n",
       "4                                   0.660                         22804.0   \n",
       "..                                    ...                             ...   \n",
       "162                                 0.252                        310379.0   \n",
       "163                                 0.295                         25443.0   \n",
       "164                                 0.252                       2669998.0   \n",
       "165                                 0.103                       3268227.0   \n",
       "166                                 0.103                        887497.0   \n",
       "\n",
       "     Mismanagedwaste(percent)  Mismanagedwaste2025(percent)  \n",
       "0                      0.0933                        0.0913  \n",
       "1                      1.6347                        1.4729  \n",
       "2                      0.1964                        0.1980  \n",
       "3                      0.0002                        0.0001  \n",
       "4                      0.0039                        0.0020  \n",
       "..                        ...                           ...  \n",
       "162                    0.0677                        0.0116  \n",
       "163                    0.0706                        0.0550  \n",
       "164                    0.3214                        0.2233  \n",
       "165                    5.7588                        6.0407  \n",
       "166                    0.5310                        0.7440  \n",
       "\n",
       "[167 rows x 8 columns]"
      ]
     },
     "execution_count": 124,
     "metadata": {},
     "output_type": "execute_result"
    }
   ],
   "source": [
    "allData"
   ]
  },
  {
   "cell_type": "code",
   "execution_count": 125,
   "id": "d1b4610e",
   "metadata": {},
   "outputs": [],
   "source": [
    "# save this merged data frame in CSV format\n",
    "allData.to_csv('allData.csv',index=False)"
   ]
  },
  {
   "cell_type": "code",
   "execution_count": null,
   "id": "7a5f0b9b",
   "metadata": {},
   "outputs": [],
   "source": []
  }
 ],
 "metadata": {
  "kernelspec": {
   "display_name": "Python 3 (ipykernel)",
   "language": "python",
   "name": "python3"
  },
  "language_info": {
   "codemirror_mode": {
    "name": "ipython",
    "version": 3
   },
   "file_extension": ".py",
   "mimetype": "text/x-python",
   "name": "python",
   "nbconvert_exporter": "python",
   "pygments_lexer": "ipython3",
   "version": "3.9.7"
  }
 },
 "nbformat": 4,
 "nbformat_minor": 5
}
